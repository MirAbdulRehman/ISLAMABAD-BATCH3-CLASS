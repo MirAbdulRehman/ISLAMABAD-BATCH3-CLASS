{
 "cells": [
  {
   "cell_type": "markdown",
   "metadata": {},
   "source": [
    "# Functions"
   ]
  },
  {
   "cell_type": "raw",
   "metadata": {},
   "source": [
    "Pre define functions\n",
    "User Define Functions\n",
    "Recursive Functions\n",
    "Lambda Functions\n",
    "Required Arguments\n",
    "Optional Arguments\n",
    "Return\n",
    "Non Return\n",
    "Defualt Arguments\n",
    "postional Arguments\n",
    "KeyWord Arguments\n",
    "Argument with List\n",
    "Argument with Dictionary\n",
    "pre defineFunctions\n",
    "User defineFunctions"
   ]
  },
  {
   "cell_type": "markdown",
   "metadata": {},
   "source": [
    "# Pre Define Functions"
   ]
  },
  {
   "cell_type": "code",
   "execution_count": 1,
   "metadata": {},
   "outputs": [
    {
     "name": "stdout",
     "output_type": "stream",
     "text": [
      "abc\n",
      "11\n",
      "<class 'int'>\n",
      "2885668976600\n"
     ]
    }
   ],
   "source": [
    "print(\"abc\")\n",
    "print(len(\"kasdjlsajdf\"))\n",
    "print(type(22))\n",
    "print(id(\"aa\"))"
   ]
  },
  {
   "cell_type": "markdown",
   "metadata": {},
   "source": [
    "# User Define Functions"
   ]
  },
  {
   "cell_type": "code",
   "execution_count": 2,
   "metadata": {},
   "outputs": [
    {
     "name": "stdout",
     "output_type": "stream",
     "text": [
      "Pakistan Zinda Bad\n",
      "We are pakistani\n",
      "We love our country!\n"
     ]
    }
   ],
   "source": [
    "print(\"Pakistan Zinda Bad\")\n",
    "print(\"We are pakistani\")\n",
    "print(\"We love our country!\")"
   ]
  },
  {
   "cell_type": "code",
   "execution_count": 4,
   "metadata": {},
   "outputs": [
    {
     "name": "stdout",
     "output_type": "stream",
     "text": [
      "Pakistan Zinda Bad\n",
      "We are pakistani\n",
      "We love our country!\n",
      "Pakistan Zinda Bad\n",
      "We are pakistani\n",
      "We love our country!\n",
      "Pakistan Zinda Bad\n",
      "We are pakistani\n",
      "We love our country!\n",
      "Pakistan Zinda Bad\n",
      "We are pakistani\n",
      "We love our country!\n"
     ]
    }
   ],
   "source": [
    "def abc(): # Function Dec\n",
    "    print(\"Pakistan Zinda Bad\") # Funciton Body statment1\n",
    "    print(\"We are pakistani\") # Statment2\n",
    "    print(\"We love our country!\")#Statment3\n",
    "    \n",
    "\n",
    "# Defualt Function \n",
    "abc() # Function Calling\n",
    "abc() # Function Calling\n",
    "abc() # Function Calling\n",
    "abc() # Function Calling"
   ]
  },
  {
   "cell_type": "code",
   "execution_count": 5,
   "metadata": {},
   "outputs": [
    {
     "name": "stdout",
     "output_type": "stream",
     "text": [
      "Pakistan Zinda Bad\n",
      "We are pakistani\n",
      "We love our country!\n",
      "aaa\n",
      "bbb\n",
      "Pakistan Zinda Bad\n",
      "We are pakistani\n",
      "We love our country!\n"
     ]
    }
   ],
   "source": [
    "abc()\n",
    "print('aaa')\n",
    "print('bbb')\n",
    "abc()"
   ]
  },
  {
   "cell_type": "markdown",
   "metadata": {},
   "source": [
    "# Required Arguments"
   ]
  },
  {
   "cell_type": "code",
   "execution_count": 6,
   "metadata": {},
   "outputs": [
    {
     "name": "stdout",
     "output_type": "stream",
     "text": [
      "\n",
      "    PIAIC Islamabad\n",
      "    id: 1\n",
      "    Name: Ali\n",
      "    father's Name: Hamza\n",
      "    course:  A.I\n",
      "    timing: 9 to 12\n",
      "    \n",
      "\n",
      "    PIAIC Islamabad\n",
      "    id: 2\n",
      "    Name: Kashif\n",
      "    father's Name: Kamran\n",
      "    course:  Cloud Computing\n",
      "    timing: 3:30 to 6:30\n",
      "    \n"
     ]
    }
   ],
   "source": [
    "def id_card(sid, sname,fname,course, timing):\n",
    "    text = \"\"\"\n",
    "    PIAIC Islamabad\n",
    "    id: {}\n",
    "    Name: {}\n",
    "    father's Name: {}\n",
    "    course:  {}\n",
    "    timing: {}\n",
    "    \"\"\".format(sid,sname,fname,course,timing)\n",
    "    print(text)\n",
    "    \n",
    "id_card(1,\"Ali\",'Hamza','A.I','9 to 12')    \n",
    "id_card(2,\"Kashif\",\"Kamran\",\"Cloud Computing\", \"3:30 to 6:30\")"
   ]
  },
  {
   "cell_type": "code",
   "execution_count": 7,
   "metadata": {},
   "outputs": [
    {
     "name": "stdout",
     "output_type": "stream",
     "text": [
      "\n",
      "    PIAIC Islamabad\n",
      "    id: 1\n",
      "    Name: Qasim\n",
      "    father's Name: Aslam\n",
      "    course:  A.I\n",
      "    timing: 9 to 12\n",
      "    \n",
      "\n",
      "    PIAIC Islamabad\n",
      "    id: 2\n",
      "    Name: Hamza\n",
      "    father's Name: Khalid\n",
      "    course:  Cloud\n",
      "    timing: 12:15 to 3:15\n",
      "    \n",
      "\n",
      "    PIAIC Islamabad\n",
      "    id: 3\n",
      "    Name: Rauf\n",
      "    father's Name: Hussain\n",
      "    course:  Quantum Computing\n",
      "    timing: 12AM\n",
      "    \n"
     ]
    }
   ],
   "source": [
    "data =[[1,\"Qasim\",\"Aslam\",\"A.I\",\"9 to 12\"],\n",
    "      [2,\"Hamza\",\"Khalid\",\"Cloud\",\"12:15 to 3:15\"],\n",
    "      [3,\"Rauf\",\"Hussain\",\"Quantum Computing\",\"12AM\"]]\n",
    "\n",
    "for v in data:\n",
    "    id_card(*v)\n",
    "#    id_card(v[0],v[1],v[2],v[3],v[4])"
   ]
  },
  {
   "cell_type": "markdown",
   "metadata": {},
   "source": [
    "# Optional Arguments"
   ]
  },
  {
   "cell_type": "code",
   "execution_count": 8,
   "metadata": {},
   "outputs": [
    {
     "name": "stdout",
     "output_type": "stream",
     "text": [
      "5 0 0\n",
      "5\n"
     ]
    }
   ],
   "source": [
    "def abc(x, y=0, z=0): #1 Required, two optional\n",
    "    print(x,y,z)\n",
    "    print(x+y+z)\n",
    "    \n",
    "abc(5)"
   ]
  },
  {
   "cell_type": "code",
   "execution_count": 9,
   "metadata": {},
   "outputs": [
    {
     "name": "stdout",
     "output_type": "stream",
     "text": [
      "5 7 0\n",
      "12\n"
     ]
    }
   ],
   "source": [
    "abc(5,7)"
   ]
  },
  {
   "cell_type": "code",
   "execution_count": 10,
   "metadata": {},
   "outputs": [
    {
     "name": "stdout",
     "output_type": "stream",
     "text": [
      "5 7 8\n",
      "20\n"
     ]
    }
   ],
   "source": [
    "abc(5,7,8)"
   ]
  },
  {
   "cell_type": "code",
   "execution_count": 11,
   "metadata": {},
   "outputs": [
    {
     "ename": "TypeError",
     "evalue": "abc() missing 1 required positional argument: 'x'",
     "output_type": "error",
     "traceback": [
      "\u001b[1;31m---------------------------------------------------------------------------\u001b[0m",
      "\u001b[1;31mTypeError\u001b[0m                                 Traceback (most recent call last)",
      "\u001b[1;32m<ipython-input-11-79c8afb7007d>\u001b[0m in \u001b[0;36m<module>\u001b[1;34m\u001b[0m\n\u001b[1;32m----> 1\u001b[1;33m \u001b[0mabc\u001b[0m\u001b[1;33m(\u001b[0m\u001b[1;33m)\u001b[0m\u001b[1;33m\u001b[0m\u001b[1;33m\u001b[0m\u001b[0m\n\u001b[0m",
      "\u001b[1;31mTypeError\u001b[0m: abc() missing 1 required positional argument: 'x'"
     ]
    }
   ],
   "source": [
    "abc()"
   ]
  },
  {
   "cell_type": "markdown",
   "metadata": {},
   "source": [
    "# Non Return Functions"
   ]
  },
  {
   "cell_type": "code",
   "execution_count": 12,
   "metadata": {},
   "outputs": [
    {
     "name": "stdout",
     "output_type": "stream",
     "text": [
      "pakistan\n",
      "None\n"
     ]
    }
   ],
   "source": [
    "abc = print(\"pakistan\")\n",
    "print(abc)"
   ]
  },
  {
   "cell_type": "code",
   "execution_count": 14,
   "metadata": {},
   "outputs": [
    {
     "ename": "TypeError",
     "evalue": "'NoneType' object is not callable",
     "output_type": "error",
     "traceback": [
      "\u001b[1;31m---------------------------------------------------------------------------\u001b[0m",
      "\u001b[1;31mTypeError\u001b[0m                                 Traceback (most recent call last)",
      "\u001b[1;32m<ipython-input-14-66376992925b>\u001b[0m in \u001b[0;36m<module>\u001b[1;34m\u001b[0m\n\u001b[1;32m----> 1\u001b[1;33m \u001b[0mx\u001b[0m \u001b[1;33m=\u001b[0m \u001b[0mabc\u001b[0m\u001b[1;33m(\u001b[0m\u001b[1;36m5\u001b[0m\u001b[1;33m,\u001b[0m\u001b[1;36m7\u001b[0m\u001b[1;33m,\u001b[0m\u001b[1;36m9\u001b[0m\u001b[1;33m)\u001b[0m\u001b[1;33m\u001b[0m\u001b[1;33m\u001b[0m\u001b[0m\n\u001b[0m\u001b[0;32m      2\u001b[0m \u001b[0mprint\u001b[0m\u001b[1;33m(\u001b[0m\u001b[0mx\u001b[0m\u001b[1;33m)\u001b[0m\u001b[1;33m\u001b[0m\u001b[1;33m\u001b[0m\u001b[0m\n",
      "\u001b[1;31mTypeError\u001b[0m: 'NoneType' object is not callable"
     ]
    }
   ],
   "source": [
    "x = abc(5,7,9)\n",
    "print(x)"
   ]
  },
  {
   "cell_type": "code",
   "execution_count": 15,
   "metadata": {},
   "outputs": [
    {
     "name": "stdout",
     "output_type": "stream",
     "text": [
      "\n",
      "    PIAIC Islamabad\n",
      "    id: 1\n",
      "    Name: A\n",
      "    father's Name: B\n",
      "    course:  C\n",
      "    timing: D\n",
      "    \n",
      "None\n"
     ]
    }
   ],
   "source": [
    "card = id_card(1,'A',\"B\",\"C\",\"D\")\n",
    "print(card)"
   ]
  },
  {
   "cell_type": "markdown",
   "metadata": {},
   "source": [
    "# Return Functions"
   ]
  },
  {
   "cell_type": "code",
   "execution_count": 18,
   "metadata": {},
   "outputs": [
    {
     "name": "stdout",
     "output_type": "stream",
     "text": [
      "\n",
      "    PIAIC Islamabad\n",
      "    id: 1\n",
      "    Name: A\n",
      "    father's Name: B\n",
      "    course:  C\n",
      "    timing: D\n",
      "    \n"
     ]
    }
   ],
   "source": [
    "def id_card(sid,sname,fname,course, timing):\n",
    "    text = \"\"\"\n",
    "    PIAIC Islamabad\n",
    "    id: {}\n",
    "    Name: {}\n",
    "    father's Name: {}\n",
    "    course:  {}\n",
    "    timing: {}\n",
    "    \"\"\".format(sid,sname,fname,course,timing)\n",
    "    return text\n",
    "    \n",
    "\n",
    "print(id_card(1,\"A\",\"B\",\"C\",\"D\"))"
   ]
  },
  {
   "cell_type": "code",
   "execution_count": 19,
   "metadata": {},
   "outputs": [
    {
     "name": "stdout",
     "output_type": "stream",
     "text": [
      "\n",
      "    PIAIC Islamabad\n",
      "    id: 1\n",
      "    Name: A\n",
      "    father's Name: B\n",
      "    course:  C\n",
      "    timing: D\n",
      "    \n"
     ]
    }
   ],
   "source": [
    "def id_card(sid, sname,fname,course, timing):\n",
    "    text = \"\"\"\n",
    "    PIAIC Islamabad\n",
    "    id: {}\n",
    "    Name: {}\n",
    "    father's Name: {}\n",
    "    course:  {}\n",
    "    timing: {}\n",
    "    \"\"\".format(sid,sname,fname,course,timing)\n",
    "    return text # exit function from first return statment\n",
    "    return \"Qasim\"\n",
    "    return \"Ali\"\n",
    "    \n",
    "\n",
    "print(id_card(1,\"A\",\"B\",\"C\",\"D\"))"
   ]
  },
  {
   "cell_type": "code",
   "execution_count": 20,
   "metadata": {},
   "outputs": [
    {
     "name": "stdout",
     "output_type": "stream",
     "text": [
      "(\"\\n    PIAIC Islamabad\\n    id: 1\\n    Name: A\\n    father's Name: B\\n    course:  C\\n    timing: D\\n    \", 'Qasim', 'Ali')\n",
      "\n",
      "\n",
      "    PIAIC Islamabad\n",
      "    id: 1\n",
      "    Name: A\n",
      "    father's Name: B\n",
      "    course:  C\n",
      "    timing: D\n",
      "     Qasim Ali\n"
     ]
    }
   ],
   "source": [
    "def id_card(sid, sname,fname,course, timing):\n",
    "    text = \"\"\"\n",
    "    PIAIC Islamabad\n",
    "    id: {}\n",
    "    Name: {}\n",
    "    father's Name: {}\n",
    "    course:  {}\n",
    "    timing: {}\n",
    "    \"\"\".format(sid,sname,fname,course,timing)\n",
    "    return text, \"Qasim\", \"Ali\" # return in tuple form\n",
    "    \n",
    "\n",
    "print(id_card(1,\"A\",\"B\",\"C\",\"D\"))\n",
    "print()\n",
    "print(*id_card(1,\"A\",\"B\",\"C\",\"D\"))"
   ]
  },
  {
   "cell_type": "markdown",
   "metadata": {},
   "source": [
    "# Keyword Arguments"
   ]
  },
  {
   "cell_type": "code",
   "execution_count": 21,
   "metadata": {},
   "outputs": [
    {
     "name": "stdout",
     "output_type": "stream",
     "text": [
      "\n",
      "    PIAIC Islamabad\n",
      "    id: Qasim\n",
      "    Name: Aslam\n",
      "    father's Name: 5007\n",
      "    course:  A.I\n",
      "    timing: 9 to 9\n",
      "    \n"
     ]
    }
   ],
   "source": [
    "def id_card(sid, sname,fname,course, timing):\n",
    "    text = \"\"\"\n",
    "    PIAIC Islamabad\n",
    "    id: {}\n",
    "    Name: {}\n",
    "    father's Name: {}\n",
    "    course:  {}\n",
    "    timing: {}\n",
    "    \"\"\".format(sid,sname,fname,course,timing)\n",
    "    return text\n",
    "\n",
    "print(id_card(\"Qasim\",\"Aslam\",5007,\"A.I\",\"9 to 9\"))"
   ]
  },
  {
   "cell_type": "code",
   "execution_count": 22,
   "metadata": {},
   "outputs": [
    {
     "name": "stdout",
     "output_type": "stream",
     "text": [
      "\n",
      "    PIAIC Islamabad\n",
      "    id: 5007\n",
      "    Name: Qasim\n",
      "    father's Name: Aslam\n",
      "    course:  A.I\n",
      "    timing: 9 to 9\n",
      "    \n"
     ]
    }
   ],
   "source": [
    "print(id_card(sname=\"Qasim\",fname=\"Aslam\",sid=5007,course=\"A.I\",timing=\"9 to 9\"))"
   ]
  },
  {
   "cell_type": "code",
   "execution_count": 23,
   "metadata": {},
   "outputs": [
    {
     "name": "stdout",
     "output_type": "stream",
     "text": [
      "\n",
      "    PIAIC Islamabad\n",
      "    id: 1\n",
      "    Name: Qasim\n",
      "    father's Name: Aslam\n",
      "    course:  A.i\n",
      "    timing: ABC\n",
      "    \n"
     ]
    }
   ],
   "source": [
    "#             p   p       k      w    k      w       k      w\n",
    "print(id_card(1,\"Qasim\",course=\"A.i\",fname=\"Aslam\",timing=\"ABC\"))\n",
    "# 2 positional\n",
    "# 3 Keyword Arguments"
   ]
  },
  {
   "cell_type": "code",
   "execution_count": 24,
   "metadata": {},
   "outputs": [
    {
     "ename": "SyntaxError",
     "evalue": "positional argument follows keyword argument (<ipython-input-24-71c283af733d>, line 1)",
     "output_type": "error",
     "traceback": [
      "\u001b[1;36m  File \u001b[1;32m\"<ipython-input-24-71c283af733d>\"\u001b[1;36m, line \u001b[1;32m1\u001b[0m\n\u001b[1;33m    print(id_card(1,\"Qasim\",course=\"A.i\",fname=\"Aslam\",\"ABC\"))\u001b[0m\n\u001b[1;37m                                                      ^\u001b[0m\n\u001b[1;31mSyntaxError\u001b[0m\u001b[1;31m:\u001b[0m positional argument follows keyword argument\n"
     ]
    }
   ],
   "source": [
    "print(id_card(1,\"Qasim\",course=\"A.i\",fname=\"Aslam\",\"ABC\"))"
   ]
  },
  {
   "cell_type": "markdown",
   "metadata": {},
   "source": [
    "# Argument With List"
   ]
  },
  {
   "cell_type": "code",
   "execution_count": 25,
   "metadata": {},
   "outputs": [
    {
     "name": "stdout",
     "output_type": "stream",
     "text": [
      "\n",
      "    PIAIC Islamabad\n",
      "    id: 1\n",
      "    Name: Qasim\n",
      "    father's Name: Aslam\n",
      "    course:  A.I\n",
      "    timing: 9 to 9\n",
      "    \n"
     ]
    }
   ],
   "source": [
    "def id_card(sid, sname,fname,course, timing):\n",
    "    text = \"\"\"\n",
    "    PIAIC Islamabad\n",
    "    id: {}\n",
    "    Name: {}\n",
    "    father's Name: {}\n",
    "    course:  {}\n",
    "    timing: {}\n",
    "    \"\"\".format(sid,sname,fname,course,timing)\n",
    "    return text\n",
    "\n",
    "\n",
    "\n",
    "l1 = [1,\"Qasim\",\"Aslam\",\"A.I\",\"9 to 9\"]\n",
    "\n",
    "\n",
    "print(id_card(l1[0], l1[1],l1[2], l1[3], l1[4]))"
   ]
  },
  {
   "cell_type": "code",
   "execution_count": 26,
   "metadata": {},
   "outputs": [
    {
     "name": "stdout",
     "output_type": "stream",
     "text": [
      "\n",
      "    PIAIC Islamabad\n",
      "    id: 1\n",
      "    Name: Qasim\n",
      "    father's Name: Aslam\n",
      "    course:  A.I\n",
      "    timing: 9 to 9\n",
      "    \n",
      "1 Qasim Aslam A.I 9 to 9\n"
     ]
    }
   ],
   "source": [
    "l1 = [1,\"Qasim\",\"Aslam\",\"A.I\",\"9 to 9\"]\n",
    "\n",
    "\n",
    "print(id_card(*l1))\n",
    "print(*l1)\n",
    "#print(l1[0], l1[1],l1[2], l1[3], l1[4])"
   ]
  },
  {
   "cell_type": "markdown",
   "metadata": {},
   "source": [
    "# Argument With Dictionary"
   ]
  },
  {
   "cell_type": "code",
   "execution_count": 27,
   "metadata": {},
   "outputs": [
    {
     "name": "stdout",
     "output_type": "stream",
     "text": [
      "\n",
      "    PIAIC Islamabad\n",
      "    id: 200\n",
      "    Name: M.Qasim\n",
      "    father's Name: Aslam\n",
      "    course:  A.I\n",
      "    timing: ABC\n",
      "    \n"
     ]
    }
   ],
   "source": [
    "def id_card(sid, sname,fname,course, timing):\n",
    "    text = \"\"\"\n",
    "    PIAIC Islamabad\n",
    "    id: {}\n",
    "    Name: {}\n",
    "    father's Name: {}\n",
    "    course:  {}\n",
    "    timing: {}\n",
    "    \"\"\".format(sid,sname,fname,course,timing)\n",
    "    return text\n",
    "\n",
    "\n",
    "d1 = {\n",
    "    'course':'A.I',\n",
    "    'sname':'M.Qasim',\n",
    "    'fname':'Aslam',\n",
    "    'sid': 200,\n",
    "    'timing': \"ABC\"\n",
    "}\n",
    "\n",
    "#print(id_card(sname=\"Qasim\",fname=\"Aslam\",sid=5007,course=\"A.I\",timing=\"9 to 9\"))\n",
    "print(id_card(**d1))"
   ]
  },
  {
   "cell_type": "markdown",
   "metadata": {},
   "source": [
    "# Recursive Functions"
   ]
  },
  {
   "cell_type": "code",
   "execution_count": 28,
   "metadata": {},
   "outputs": [
    {
     "data": {
      "text/plain": [
       "120"
      ]
     },
     "execution_count": 28,
     "metadata": {},
     "output_type": "execute_result"
    }
   ],
   "source": [
    "def abc(n):\n",
    "    if n==1:\n",
    "        return 1\n",
    "    return n * abc(n-1)\n",
    "    \n",
    "    \n",
    "abc(5)  \n",
    "#5*4*3*2*1"
   ]
  },
  {
   "cell_type": "markdown",
   "metadata": {},
   "source": [
    "# Generator Function"
   ]
  },
  {
   "cell_type": "code",
   "execution_count": 29,
   "metadata": {},
   "outputs": [
    {
     "name": "stdout",
     "output_type": "stream",
     "text": [
      "<generator object abc at 0x0000029FE05B84F8>\n",
      "0\n",
      "1\n",
      "2\n",
      "3\n",
      "4\n",
      "5\n",
      "[6, 7, 8, 9, 10]\n"
     ]
    }
   ],
   "source": [
    "def abc():\n",
    "    for i in range(11):\n",
    "        yield i\n",
    "        \n",
    "a = abc()        \n",
    "print(a)\n",
    "print(next(a))\n",
    "print(next(a))\n",
    "print(next(a))\n",
    "print(next(a))\n",
    "print(next(a))\n",
    "print(next(a))\n",
    "\n",
    "print(list(a))"
   ]
  },
  {
   "cell_type": "markdown",
   "metadata": {},
   "source": [
    "# Lambda Function"
   ]
  },
  {
   "cell_type": "code",
   "execution_count": 30,
   "metadata": {},
   "outputs": [
    {
     "data": {
      "text/plain": [
       "13"
      ]
     },
     "execution_count": 30,
     "metadata": {},
     "output_type": "execute_result"
    }
   ],
   "source": [
    "def xyz(a,b):\n",
    "    return a + b\n",
    "\n",
    "xyz(5,8)"
   ]
  },
  {
   "cell_type": "code",
   "execution_count": 31,
   "metadata": {},
   "outputs": [
    {
     "data": {
      "text/plain": [
       "13"
      ]
     },
     "execution_count": 31,
     "metadata": {},
     "output_type": "execute_result"
    }
   ],
   "source": [
    "def xyz(a,b): return a + b\n",
    "\n",
    "xyz(5,8)"
   ]
  },
  {
   "cell_type": "code",
   "execution_count": 32,
   "metadata": {},
   "outputs": [
    {
     "data": {
      "text/plain": [
       "12"
      ]
     },
     "execution_count": 32,
     "metadata": {},
     "output_type": "execute_result"
    }
   ],
   "source": [
    "xyz = lambda a,b: a + b\n",
    "\n",
    "xyz(5,7)"
   ]
  }
 ],
 "metadata": {
  "kernelspec": {
   "display_name": "Python 3",
   "language": "python",
   "name": "python3"
  },
  "language_info": {
   "codemirror_mode": {
    "name": "ipython",
    "version": 3
   },
   "file_extension": ".py",
   "mimetype": "text/x-python",
   "name": "python",
   "nbconvert_exporter": "python",
   "pygments_lexer": "ipython3",
   "version": "3.7.3"
  }
 },
 "nbformat": 4,
 "nbformat_minor": 2
}
