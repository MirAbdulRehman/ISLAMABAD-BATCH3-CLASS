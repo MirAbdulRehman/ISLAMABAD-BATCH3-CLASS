{
 "cells": [
  {
   "cell_type": "markdown",
   "metadata": {},
   "source": [
    "# Functions"
   ]
  },
  {
   "cell_type": "markdown",
   "metadata": {},
   "source": [
    "Re-using of Code again and agin when Invoked."
   ]
  },
  {
   "cell_type": "code",
   "execution_count": 8,
   "metadata": {},
   "outputs": [
    {
     "name": "stdout",
     "output_type": "stream",
     "text": [
      "6\n"
     ]
    }
   ],
   "source": [
    "def add(): # Function Defination\n",
    "    a = 2\n",
    "    b = 4\n",
    "    c = a + b\n",
    "    print(c)\n",
    "\n",
    "add() # Created an add FUnction that Prints pre-defined Value."
   ]
  },
  {
   "cell_type": "code",
   "execution_count": 13,
   "metadata": {},
   "outputs": [
    {
     "name": "stdout",
     "output_type": "stream",
     "text": [
      "Enter First Number: 2\n",
      "Enter Second Number: 4\n",
      "Ans: 8\n"
     ]
    }
   ],
   "source": [
    "def Mul(a,b):\n",
    "    c = a * b\n",
    "    return(c)\n",
    "d = int(input('Enter First Number: '))\n",
    "e = int(input('Enter Second Number: '))\n",
    "    # Created a multiply function that takes value from the user and perform Multiplication.\n",
    "print('Ans:',Mul(d,e))"
   ]
  },
  {
   "cell_type": "code",
   "execution_count": 19,
   "metadata": {},
   "outputs": [
    {
     "name": "stdout",
     "output_type": "stream",
     "text": [
      "Enter the text you want to print: Mir\n",
      "How may times you want to print the text: 3\n",
      "Print: Mir Mir Mir \n"
     ]
    }
   ],
   "source": [
    "def str_mul(num,char):\n",
    "    c = num * (char+' ')\n",
    "    return(c)\n",
    "\n",
    "text = input('Enter the text you want to print: ')\n",
    "Mnum = int(input('How may times you want to print the text: '))\n",
    "\n",
    "print('Print:',str_mul(Mnum,text))"
   ]
  }
 ],
 "metadata": {
  "kernelspec": {
   "display_name": "Python 3",
   "language": "python",
   "name": "python3"
  },
  "language_info": {
   "codemirror_mode": {
    "name": "ipython",
    "version": 3
   },
   "file_extension": ".py",
   "mimetype": "text/x-python",
   "name": "python",
   "nbconvert_exporter": "python",
   "pygments_lexer": "ipython3",
   "version": "3.7.3"
  }
 },
 "nbformat": 4,
 "nbformat_minor": 2
}
