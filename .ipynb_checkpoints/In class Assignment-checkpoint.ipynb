{
 "cells": [
  {
   "cell_type": "code",
   "execution_count": 12,
   "metadata": {},
   "outputs": [
    {
     "name": "stdout",
     "output_type": "stream",
     "text": [
      "A\ty\t\u001a\n",
      "B\ty\t\u001a\n",
      "C\ty\t\u001a\n",
      "D\ty\t\u001a\n",
      "E\ty\t\u001a\n",
      "F\ty\t\u001a\n",
      "G\ty\t\u001a\n",
      "H\ty\t\u001a\n",
      "I\ty\t\u001a\n",
      "J\ty\t\u001a\n",
      "K\ty\t\u001a\n",
      "L\ty\t\u001a\n",
      "M\ty\t\u001a\n",
      "N\ty\t\u001a\n",
      "O\ty\t\u001a\n",
      "P\ty\t\u001a\n",
      "Q\ty\t\u001a\n",
      "R\ty\t\u001a\n",
      "S\ty\t\u001a\n",
      "T\ty\t\u001a\n",
      "U\ty\t\u001a\n",
      "V\ty\t\u001a\n",
      "W\ty\t\u001a\n",
      "X\ty\t\u001a\n",
      "Y\ty\t\u001a\n"
     ]
    }
   ],
   "source": [
    "for i in range (65,90):\n",
    "    a = chr(i)\n",
    "    print(a,end = '\\t')\n",
    "    for j in range (97,122):\n",
    "        b = chr(j)\n",
    "    print(b,end = '\\t')\n",
    "        \n",
    "    for k in range (0,27):\n",
    "        c = chr(k)\n",
    "    print(c)\n"
   ]
  },
  {
   "cell_type": "code",
   "execution_count": 7,
   "metadata": {},
   "outputs": [
    {
     "name": "stdout",
     "output_type": "stream",
     "text": [
      "Enter the value: 2\n",
      "Enter the Value: 3\n",
      "2 X 1 = 2\t3 X 1 = 3\n",
      "2 X 2 = 4\t3 X 2 = 6\n",
      "2 X 3 = 6\t3 X 3 = 9\n",
      "2 X 4 = 8\t3 X 4 = 12\n",
      "2 X 5 = 10\t3 X 5 = 15\n",
      "2 X 6 = 12\t3 X 6 = 18\n",
      "2 X 7 = 14\t3 X 7 = 21\n",
      "2 X 8 = 16\t3 X 8 = 24\n",
      "2 X 9 = 18\t3 X 9 = 27\n",
      "2 X 10 = 20\t3 X 10 = 30\n"
     ]
    }
   ],
   "source": [
    "\n",
    "Val1 = input(\"Enter the value: \")\n",
    "Val2 = input(\"Enter the Value: \")\n",
    "count = 1\n",
    "while count<= 10:\n",
    "\n",
    "    print(Val1,'X',count,'=',int(Val1)*count,end = '\\t')\n",
    "    print(Val2,'X',count,'=',int(Val2)*count)\n",
    "    count += 1\n"
   ]
  },
  {
   "cell_type": "code",
   "execution_count": 5,
   "metadata": {},
   "outputs": [
    {
     "name": "stdout",
     "output_type": "stream",
     "text": [
      "[[3, 5, 8], [8, 9, 10], [20, 30, 27], [35, 9, 20]]\n"
     ]
    }
   ],
   "source": [
    "l = [[3,5,8],\n",
    "    [8,9,10],\n",
    "    [20,30,27],\n",
    "    [35,9,20]]\n",
    "print(l)"
   ]
  },
  {
   "cell_type": "code",
   "execution_count": null,
   "metadata": {},
   "outputs": [],
   "source": []
  },
  {
   "cell_type": "code",
   "execution_count": null,
   "metadata": {},
   "outputs": [],
   "source": [
    "init = 'You'\n",
    "\n",
    "if init =='You':\n",
    "    rich = True\n",
    "    slap = False\n",
    "    \n",
    "    if rich == True and slap == True:\n",
    "        print(\"Customer Feedback\")\n",
    "    elif rich == True and slap == False:\n",
    "        print(\"Direct Marketing\")\n",
    "    \n",
    "            \n",
    "elif init == \"Friend\":\n",
    "    \n",
    "elif init == \"Girl\":\n",
    "    \n"
   ]
  }
 ],
 "metadata": {
  "kernelspec": {
   "display_name": "Python 3",
   "language": "python",
   "name": "python3"
  },
  "language_info": {
   "codemirror_mode": {
    "name": "ipython",
    "version": 3
   },
   "file_extension": ".py",
   "mimetype": "text/x-python",
   "name": "python",
   "nbconvert_exporter": "python",
   "pygments_lexer": "ipython3",
   "version": "3.7.3"
  }
 },
 "nbformat": 4,
 "nbformat_minor": 2
}
