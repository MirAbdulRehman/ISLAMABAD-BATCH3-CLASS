{
 "cells": [
  {
   "cell_type": "markdown",
   "metadata": {},
   "source": [
    "# Dictionary"
   ]
  },
  {
   "cell_type": "code",
   "execution_count": 1,
   "metadata": {},
   "outputs": [
    {
     "data": {
      "text/plain": [
       "{'id': 2, 'name': 'Qasim', 'course': 'A.I', 'DOB': '27-03-1999'}"
      ]
     },
     "execution_count": 1,
     "metadata": {},
     "output_type": "execute_result"
    }
   ],
   "source": [
    "# Dict = {item1, item2, item3}\n",
    "# item = key.value\n",
    "\n",
    "d1 = {'id':2,\n",
    "      'name':'Qasim',\n",
    "      'course':'A.I',\n",
    "      'DOB':'27-03-1999'}\n",
    "d1"
   ]
  },
  {
   "cell_type": "code",
   "execution_count": 2,
   "metadata": {},
   "outputs": [
    {
     "data": {
      "text/plain": [
       "{'ID': 1, 'Name': 'AbdulRehman', 'Course': 'A.I.'}"
      ]
     },
     "execution_count": 2,
     "metadata": {},
     "output_type": "execute_result"
    }
   ],
   "source": [
    "d1 = {}\n",
    "d1['ID'] = 1\n",
    "d1['Name'] = 'AbdulRehman'\n",
    "d1['Course'] = 'A.I.'\n",
    "\n",
    "d1"
   ]
  },
  {
   "cell_type": "code",
   "execution_count": 6,
   "metadata": {},
   "outputs": [
    {
     "name": "stdout",
     "output_type": "stream",
     "text": [
      "Enter ID: 1\n",
      "Enter name: Moon\n",
      "enter your skills with ',' separated values: Python,Java,C++\n"
     ]
    },
    {
     "data": {
      "text/plain": [
       "{'id': '1',\n",
       " 'Name': 'Moon',\n",
       " 'skills': <function str.split(sep=None, maxsplit=-1)>}"
      ]
     },
     "execution_count": 6,
     "metadata": {},
     "output_type": "execute_result"
    }
   ],
   "source": [
    "information = {}\n",
    "user_id = input(\"Enter ID: \")\n",
    "information['id'] = user_id\n",
    "\n",
    "name = input(\"Enter name: \")\n",
    "information['Name'] = name\n",
    "\n",
    "skills = input(\"enter your skills with ',' separated values: \")\n",
    "information['skills'] = skills.split\n",
    "\n",
    "information"
   ]
  },
  {
   "cell_type": "code",
   "execution_count": 9,
   "metadata": {},
   "outputs": [
    {
     "name": "stdout",
     "output_type": "stream",
     "text": [
      "Enter ID: 1\n",
      "Enter name: Moon\n",
      "enter your skills with ',' separated values: a,f,t,h\n"
     ]
    },
    {
     "data": {
      "text/plain": [
       "{'id': '1', 'Name': 'Moon', 'skills': ['Python', 'a', 'f', 't', 'h']}"
      ]
     },
     "execution_count": 9,
     "metadata": {},
     "output_type": "execute_result"
    }
   ],
   "source": [
    "c\n",
    "information"
   ]
  },
  {
   "cell_type": "code",
   "execution_count": 12,
   "metadata": {},
   "outputs": [
    {
     "data": {
      "text/plain": [
       "{'ID': 1, 'Name': 'AbdulRehman', 'Course': 'A.I.'}"
      ]
     },
     "execution_count": 12,
     "metadata": {},
     "output_type": "execute_result"
    }
   ],
   "source": [
    "d1 = {}\n",
    "d1['ID'] = 1\n",
    "d1['Name'] = 'AbdulRehman'\n",
    "d1['Course'] = 'A.I.'\n",
    "\n",
    "d1"
   ]
  },
  {
   "cell_type": "code",
   "execution_count": 11,
   "metadata": {},
   "outputs": [
    {
     "data": {
      "text/plain": [
       "<function dict.clear>"
      ]
     },
     "execution_count": 11,
     "metadata": {},
     "output_type": "execute_result"
    }
   ],
   "source": [
    "d1.clear"
   ]
  },
  {
   "cell_type": "code",
   "execution_count": 13,
   "metadata": {},
   "outputs": [],
   "source": [
    "d1 = {}\n",
    "d1['ID'] = 1\n",
    "d1['Name'] = 'AbdulRehman'\n",
    "d1['Course'] = 'A.I.'"
   ]
  },
  {
   "cell_type": "code",
   "execution_count": 17,
   "metadata": {},
   "outputs": [
    {
     "name": "stdout",
     "output_type": "stream",
     "text": [
      "D1=  {'ID': 1, 'Name': 'AbdulRehman', 'Course': 'A.I.'}\n",
      "D2=  {'ID': 2, 'Name': 'AbdulRehman', 'Course': 'A.I.'}\n"
     ]
    }
   ],
   "source": [
    "d2 = d1.copy() # Deep Copy\n",
    "print('D1= ',d1)\n",
    "d2['ID'] = 2\n",
    "print('D2= ',d2)"
   ]
  },
  {
   "cell_type": "code",
   "execution_count": 18,
   "metadata": {},
   "outputs": [
    {
     "data": {
      "text/plain": [
       "{'id': None, 'name': None, 'course': None}"
      ]
     },
     "execution_count": 18,
     "metadata": {},
     "output_type": "execute_result"
    }
   ],
   "source": [
    "d1 = {}\n",
    "d1['id'] = None\n",
    "d1['name'] = None\n",
    "d1['course'] = None\n",
    "\n",
    "d1"
   ]
  },
  {
   "cell_type": "code",
   "execution_count": 20,
   "metadata": {},
   "outputs": [
    {
     "name": "stdout",
     "output_type": "stream",
     "text": [
      "['ID', 'Name', 'Course', 'Timing', 'Address', 'DOB']\n",
      "{'ID': None, 'Name': None, 'Course': None, 'Timing': None, 'Address': None, 'DOB': None}\n"
     ]
    }
   ],
   "source": [
    "l1 = ['ID','Name','Course','Timing','Address','DOB']\n",
    "print(l1)\n",
    "\n",
    "d1 = dict.fromkeys(l1)\n",
    "print(d1)"
   ]
  },
  {
   "cell_type": "code",
   "execution_count": 21,
   "metadata": {},
   "outputs": [
    {
     "name": "stdout",
     "output_type": "stream",
     "text": [
      "enter your skills with ',' separated values: n,e,t,z,a\n"
     ]
    },
    {
     "ename": "KeyError",
     "evalue": "'val'",
     "output_type": "error",
     "traceback": [
      "\u001b[1;31m---------------------------------------------------------------------------\u001b[0m",
      "\u001b[1;31mKeyError\u001b[0m                                  Traceback (most recent call last)",
      "\u001b[1;32m<ipython-input-21-d1748bfaf62b>\u001b[0m in \u001b[0;36m<module>\u001b[1;34m\u001b[0m\n\u001b[0;32m      2\u001b[0m \u001b[1;33m\u001b[0m\u001b[0m\n\u001b[0;32m      3\u001b[0m \u001b[0mval\u001b[0m \u001b[1;33m=\u001b[0m \u001b[0minput\u001b[0m\u001b[1;33m(\u001b[0m\u001b[1;34m\"enter your skills with ',' separated values: \"\u001b[0m\u001b[1;33m)\u001b[0m\u001b[1;33m\u001b[0m\u001b[1;33m\u001b[0m\u001b[0m\n\u001b[1;32m----> 4\u001b[1;33m \u001b[0me1\u001b[0m\u001b[1;33m[\u001b[0m\u001b[1;34m'val'\u001b[0m\u001b[1;33m]\u001b[0m \u001b[1;33m=\u001b[0m \u001b[0me1\u001b[0m\u001b[1;33m[\u001b[0m\u001b[1;34m'val'\u001b[0m\u001b[1;33m]\u001b[0m \u001b[1;33m+\u001b[0m \u001b[0mskills\u001b[0m\u001b[1;33m.\u001b[0m\u001b[0msplit\u001b[0m\u001b[1;33m(\u001b[0m\u001b[1;34m','\u001b[0m\u001b[1;33m)\u001b[0m\u001b[1;33m\u001b[0m\u001b[1;33m\u001b[0m\u001b[0m\n\u001b[0m",
      "\u001b[1;31mKeyError\u001b[0m: 'val'"
     ]
    }
   ],
   "source": [
    "e1 = {}\n",
    "\n",
    "val = input(\"enter your skills with ',' separated values: \")\n",
    "e1['val'] = e1['val'] + skills.split(',')\n"
   ]
  },
  {
   "cell_type": "code",
   "execution_count": 25,
   "metadata": {},
   "outputs": [
    {
     "name": "stdout",
     "output_type": "stream",
     "text": [
      "Enter comma separator: m,a,w,e\n",
      "['m', 'a', 'w', 'e']\n",
      "{'m': 'NAN', 'a': 'NAN', 'w': 'NAN', 'e': 'NAN'}\n"
     ]
    }
   ],
   "source": [
    "l1 = input('Enter comma separator: ')\n",
    "l1 = l1.split(',')\n",
    "print(l1)\n",
    "\n",
    "d1 = dict.fromkeys(l1,'NAN')\n",
    "print(d1)"
   ]
  },
  {
   "cell_type": "code",
   "execution_count": 27,
   "metadata": {},
   "outputs": [
    {
     "name": "stdout",
     "output_type": "stream",
     "text": [
      "Enter comma separator: ID,Name,Class\n",
      "Enter Comma Separated Values: 1,Moon,PIAIC\n",
      "{'ID': ['1', 'Moon', 'PIAIC']}\n",
      "{'Name': ['1', 'Moon', 'PIAIC']}\n",
      "{'Class': ['1', 'Moon', 'PIAIC']}\n"
     ]
    }
   ],
   "source": [
    "l1 = input('Enter comma separator: ')\n",
    "l1 = l1.split(',')\n",
    "\n",
    "l2 = input('Enter Comma Separated Values: ')\n",
    "l2 = l2.split(',')\n",
    "\n",
    "\n",
    "d1 = dict.fromkeys(l1)\n",
    "for l1 in d1:\n",
    "    d1 = {l1:l2}\n",
    "    print(d1)"
   ]
  },
  {
   "cell_type": "code",
   "execution_count": 29,
   "metadata": {},
   "outputs": [
    {
     "name": "stdout",
     "output_type": "stream",
     "text": [
      "Enter Keys split by ',': ID,Name,Father_Name,Class\n",
      "Enter Value split by ',': 1,Moon,Mir,PIAIC\n",
      "{'ID': '1', 'Name': 'Moon', 'Father_Name': 'Mir', 'Class': 'PIAIC'}\n"
     ]
    }
   ],
   "source": [
    "l1 = input(\"Enter Keys split by ',': \")\n",
    "l1 = l1.split(',')\n",
    "#l1 = input(\"Enter Keys split by ',': \").split(',')\n",
    "\n",
    "l2 = input(\"Enter Value split by ',': \")\n",
    "l2 = l2.split(',')\n",
    "#l2 = input(\"Enter Keys split by ',': \").split(',')\n",
    "\n",
    "l3 = list(zip(l1,l2))\n",
    "d1 = dict(l3)\n",
    "print(d1)"
   ]
  },
  {
   "cell_type": "code",
   "execution_count": 33,
   "metadata": {},
   "outputs": [
    {
     "name": "stdout",
     "output_type": "stream",
     "text": [
      "1\n",
      "None\n"
     ]
    }
   ],
   "source": [
    "print(d1.get('ID'))\n",
    "print(d1.get('Addess'))\n",
    "# if the key is available the value will be returned else no error will be generated."
   ]
  },
  {
   "cell_type": "code",
   "execution_count": 35,
   "metadata": {},
   "outputs": [
    {
     "name": "stdout",
     "output_type": "stream",
     "text": [
      "{'ID': '1', 'Name': 'Moon', 'Father_Name': 'Mir', 'Class': 'PIAIC'}\n"
     ]
    },
    {
     "data": {
      "text/plain": [
       "dict_items([('ID', '1'), ('Name', 'Moon'), ('Father_Name', 'Mir'), ('Class', 'PIAIC')])"
      ]
     },
     "execution_count": 35,
     "metadata": {},
     "output_type": "execute_result"
    }
   ],
   "source": [
    "print(d1)\n",
    "d1.items()"
   ]
  },
  {
   "cell_type": "code",
   "execution_count": 36,
   "metadata": {},
   "outputs": [
    {
     "name": "stdout",
     "output_type": "stream",
     "text": [
      "{'ID': '1', 'Name': 'Moon', 'Father_Name': 'Mir', 'Class': 'PIAIC'}\n"
     ]
    },
    {
     "data": {
      "text/plain": [
       "dict_keys(['ID', 'Name', 'Father_Name', 'Class'])"
      ]
     },
     "execution_count": 36,
     "metadata": {},
     "output_type": "execute_result"
    }
   ],
   "source": [
    "print(d1)\n",
    "d1.keys()"
   ]
  },
  {
   "cell_type": "code",
   "execution_count": 37,
   "metadata": {},
   "outputs": [
    {
     "name": "stdout",
     "output_type": "stream",
     "text": [
      "{'ID': '1', 'Name': 'Moon', 'Father_Name': 'Mir', 'Class': 'PIAIC'}\n"
     ]
    },
    {
     "data": {
      "text/plain": [
       "dict_values(['1', 'Moon', 'Mir', 'PIAIC'])"
      ]
     },
     "execution_count": 37,
     "metadata": {},
     "output_type": "execute_result"
    }
   ],
   "source": [
    "print(d1)\n",
    "d1.values()"
   ]
  },
  {
   "cell_type": "code",
   "execution_count": 38,
   "metadata": {},
   "outputs": [
    {
     "name": "stdout",
     "output_type": "stream",
     "text": [
      "{'ID': '1', 'Name': 'Moon', 'Father_Name': 'Mir', 'Class': 'PIAIC'}\n"
     ]
    },
    {
     "data": {
      "text/plain": [
       "'Mir'"
      ]
     },
     "execution_count": 38,
     "metadata": {},
     "output_type": "execute_result"
    }
   ],
   "source": [
    "print(d1)\n",
    "d1.pop('Father_Name')"
   ]
  },
  {
   "cell_type": "code",
   "execution_count": 40,
   "metadata": {},
   "outputs": [
    {
     "name": "stdout",
     "output_type": "stream",
     "text": [
      "{'ID': '1', 'Name': 'Moon', 'Class': 'PIAIC'}\n"
     ]
    },
    {
     "data": {
      "text/plain": [
       "('Class', 'PIAIC')"
      ]
     },
     "execution_count": 40,
     "metadata": {},
     "output_type": "execute_result"
    }
   ],
   "source": [
    "print(d1)\n",
    "d1.popitem()"
   ]
  },
  {
   "cell_type": "code",
   "execution_count": 41,
   "metadata": {},
   "outputs": [
    {
     "name": "stdout",
     "output_type": "stream",
     "text": [
      "{'a': 'x', 'b': 'y', 'c': 'z'}\n",
      "{'a': 'x', 'b': 'y', 'c': 'z', 'abc': 'xyz'}\n"
     ]
    }
   ],
   "source": [
    "d1 = {'a':'x','b':'y','c':'z'}\n",
    "print(d1)\n",
    "d1.setdefault('abc','xyz')\n",
    "print(d1)"
   ]
  },
  {
   "cell_type": "code",
   "execution_count": 44,
   "metadata": {},
   "outputs": [
    {
     "name": "stdout",
     "output_type": "stream",
     "text": [
      "{'a': 'AA', 'b': 'BB'}\n",
      "{'a': 'AAAA', 'b': 'BBBB'}\n"
     ]
    },
    {
     "data": {
      "text/plain": [
       "{'a': 'AAAA', 'b': 'BBBB'}"
      ]
     },
     "execution_count": 44,
     "metadata": {},
     "output_type": "execute_result"
    }
   ],
   "source": [
    "d1 = {'a':'AA','b':'BB'}\n",
    "d2 = {'a':'AAAA','b':'BBBB'}\n",
    "print(d1)\n",
    "print(d2)\n",
    "\n",
    "d1.update(d2)\n",
    "\n",
    "d1"
   ]
  },
  {
   "cell_type": "code",
   "execution_count": 90,
   "metadata": {},
   "outputs": [
    {
     "data": {
      "text/plain": [
       "{'i': 9, 'h': 8, 'g': 7, 'f': 6, 'e': 5, 'd': 4, 'c': 3, 'b': 2, 'a': 1}"
      ]
     },
     "execution_count": 90,
     "metadata": {},
     "output_type": "execute_result"
    }
   ],
   "source": [
    "d1 = {'a':1,'b':2,'c':3,'d':4,'e':5,'f':6,'g':7,'h':8,'i':9}\n",
    "\n",
    "\n",
    "e1 = (d1.items())\n",
    "sorted(e1,reverse=True)\n",
    "\n",
    "w1 = sorted(e1,reverse=True)\n",
    "dict(w1)"
   ]
  },
  {
   "cell_type": "code",
   "execution_count": 1,
   "metadata": {},
   "outputs": [
    {
     "name": "stdout",
     "output_type": "stream",
     "text": [
      "Please Enter your id: 1\n",
      "Please Enter your name: Moon\n",
      "Enter Skills separete by comma:Python C++ Java\n",
      "Want to Continue? y/x: x\n"
     ]
    },
    {
     "data": {
      "text/plain": [
       "[{'ID': '1', 'Name': 'Moon', 'Skills': ['Python', 'C++', 'Java']}]"
      ]
     },
     "execution_count": 1,
     "metadata": {},
     "output_type": "execute_result"
    }
   ],
   "source": [
    "lst = []\n",
    "x = ''\n",
    "while x != 'x':\n",
    "    dict1 = {}\n",
    "    dict1['ID'] = input(\"Please Enter your id: \")\n",
    "    dict1['Name'] = input(\"Please Enter your name: \")\n",
    "    skills = input(\"Enter Skills separete by comma:\")\n",
    "    dict1['Skills'] = skills.split(' ')\n",
    "    lst.append(dict1)\n",
    "    \n",
    "    x = input(\"Want to Continue? y/x: \")\n",
    "lst"
   ]
  },
  {
   "cell_type": "code",
   "execution_count": null,
   "metadata": {},
   "outputs": [],
   "source": []
  }
 ],
 "metadata": {
  "kernelspec": {
   "display_name": "Python 3",
   "language": "python",
   "name": "python3"
  },
  "language_info": {
   "codemirror_mode": {
    "name": "ipython",
    "version": 3
   },
   "file_extension": ".py",
   "mimetype": "text/x-python",
   "name": "python",
   "nbconvert_exporter": "python",
   "pygments_lexer": "ipython3",
   "version": "3.7.3"
  }
 },
 "nbformat": 4,
 "nbformat_minor": 2
}
