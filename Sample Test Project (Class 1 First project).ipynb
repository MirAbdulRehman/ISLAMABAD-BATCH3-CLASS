{
 "cells": [
  {
   "cell_type": "code",
   "execution_count": 1,
   "metadata": {},
   "outputs": [
    {
     "name": "stdout",
     "output_type": "stream",
     "text": [
      "\n",
      "PIAIC ISLAMABAD BATCH3\n",
      "Name: Mir AbdulRehman\n",
      "Father: Sohail Mir\n",
      "University: Bahria university\n",
      "\n"
     ]
    }
   ],
   "source": [
    "name = \"Mir AbdulRehman\"\n",
    "father_name = \"Sohail Mir\"\n",
    "university = \"Bahria university\"\n",
    "\n",
    "message= \"\"\"\n",
    "PIAIC ISLAMABAD BATCH3\n",
    "Name: {}\n",
    "Father: {}\n",
    "University: {}\n",
    "\"\"\".format(name, father_name, university)\n",
    "\n",
    "print(message)"
   ]
  },
  {
   "cell_type": "code",
   "execution_count": null,
   "metadata": {},
   "outputs": [],
   "source": []
  }
 ],
 "metadata": {
  "kernelspec": {
   "display_name": "Python 3",
   "language": "python",
   "name": "python3"
  },
  "language_info": {
   "codemirror_mode": {
    "name": "ipython",
    "version": 3
   },
   "file_extension": ".py",
   "mimetype": "text/x-python",
   "name": "python",
   "nbconvert_exporter": "python",
   "pygments_lexer": "ipython3",
   "version": "3.7.3"
  }
 },
 "nbformat": 4,
 "nbformat_minor": 2
}
