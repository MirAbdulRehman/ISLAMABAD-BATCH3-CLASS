{
 "cells": [
  {
   "cell_type": "markdown",
   "metadata": {},
   "source": [
    "# Object Oriented Programming (OOP)"
   ]
  },
  {
   "cell_type": "markdown",
   "metadata": {},
   "source": [
    "Object-oriented programming (OOP) refers to a type of computer programming (software design) in which programmers define the data type of a data structure, and also the types of operations (functions) that can be applied to the data structure.\n",
    "\n",
    "(Any program that has any relation to a real world object is called Object oriented Programming.)"
   ]
  },
  {
   "cell_type": "markdown",
   "metadata": {},
   "source": [
    "# Topic"
   ]
  },
  {
   "cell_type": "markdown",
   "metadata": {},
   "source": [
    "<ul>\n",
    "<li>Class</li>\n",
    "<li>Instance</li>\n",
    "<li>Method</li>\n",
    "<li>Attributs/Properties</li>\n",
    "<li>Inheritance</li>\n",
    "<li>Polymorphism</li>\n",
    "<li>Encapsulation</li>\n",
    "<li>Abstraction</li>\n",
    "</ul>"
   ]
  },
  {
   "cell_type": "code",
   "execution_count": 3,
   "metadata": {},
   "outputs": [],
   "source": [
    "s1name = \"Ali\"\n",
    "s1fanem = \"Hamza\"\n",
    "s1id = 1\n",
    "def s1login(): pass\n",
    "def s1logout(): pass\n",
    "def s1quizz_attemp(): pass\n",
    "\n",
    "s2name = \"Ali\"\n",
    "s2fanem = \"Hamza\"\n",
    "s2id = 2\n",
    "def s2login(): pass\n",
    "def s2logout(): pass\n",
    "def s2quizz_attemp(): pass"
   ]
  },
  {
   "cell_type": "code",
   "execution_count": 4,
   "metadata": {},
   "outputs": [],
   "source": [
    "class Std():\n",
    "    def __init__(self,sid):\n",
    "        self.sid = sid\n",
    "        self.name = \"\"\n",
    "        self.fname = \"\"\n",
    "        self.course = \"\"\n",
    "        self.fee = 0\n",
    "        \n",
    "    def login():\n",
    "        pass\n",
    "    \n",
    "    def logout():\n",
    "        pass\n",
    "    \n",
    "    def quizz_attemp():\n",
    "        pass\n",
    "        \n",
    "s1 = Std(1)\n",
    "s2 = Std(2)\n",
    "s3 = Std(100)"
   ]
  },
  {
   "cell_type": "code",
   "execution_count": 5,
   "metadata": {},
   "outputs": [
    {
     "name": "stdout",
     "output_type": "stream",
     "text": [
      "\n",
      "\n",
      "\n"
     ]
    }
   ],
   "source": [
    "print(s1.name,s2.name,s3.name, sep='\\n')"
   ]
  },
  {
   "cell_type": "code",
   "execution_count": 6,
   "metadata": {},
   "outputs": [
    {
     "name": "stdout",
     "output_type": "stream",
     "text": [
      "Ali\n",
      "Qasim\n",
      "javaid\n"
     ]
    }
   ],
   "source": [
    "s1.name = \"Ali\"\n",
    "s2.name = \"Qasim\"\n",
    "s3.name = \"javaid\"\n",
    "\n",
    "print(s1.name,s2.name,s3.name, sep='\\n')"
   ]
  },
  {
   "cell_type": "code",
   "execution_count": 7,
   "metadata": {},
   "outputs": [
    {
     "name": "stdout",
     "output_type": "stream",
     "text": [
      "1\n",
      "2\n",
      "100\n"
     ]
    }
   ],
   "source": [
    "print(s1.sid,s2.sid,s3.sid, sep='\\n')"
   ]
  },
  {
   "cell_type": "code",
   "execution_count": 12,
   "metadata": {},
   "outputs": [
    {
     "data": {
      "text/plain": [
       "3"
      ]
     },
     "execution_count": 12,
     "metadata": {},
     "output_type": "execute_result"
    }
   ],
   "source": [
    "class Std():\n",
    "    \n",
    "    counter = 0\n",
    "    \n",
    "    def __init__(self,sid):\n",
    "        self.sid = sid\n",
    "        self.name = \"\"\n",
    "        self.fname = \"\"\n",
    "        self.course = \"\"\n",
    "        self.fee = 0\n",
    "        self.user = \"\"\n",
    "        Std.counter += 1\n",
    "        \n",
    "        \n",
    "    def login(self,user,password):\n",
    "        self.user = user_name\n",
    "        print('Welcome',self.user)\n",
    "    \n",
    "    def logout():\n",
    "        pass\n",
    "    \n",
    "    def quizz_attemp():\n",
    "        pass\n",
    "        \n",
    "s1 = Std(1)\n",
    "s2 = Std(2)\n",
    "s3 = Std(100)\n",
    "\n",
    "Std.counter"
   ]
  },
  {
   "cell_type": "code",
   "execution_count": 23,
   "metadata": {},
   "outputs": [
    {
     "ename": "TypeError",
     "evalue": "login() missing 1 required positional argument: 'password'",
     "output_type": "error",
     "traceback": [
      "\u001b[1;31m---------------------------------------------------------------------------\u001b[0m",
      "\u001b[1;31mTypeError\u001b[0m                                 Traceback (most recent call last)",
      "\u001b[1;32m<ipython-input-23-9b534cec2277>\u001b[0m in \u001b[0;36m<module>\u001b[1;34m\u001b[0m\n\u001b[0;32m     30\u001b[0m \u001b[1;33m\u001b[0m\u001b[0m\n\u001b[0;32m     31\u001b[0m \u001b[0ms1\u001b[0m\u001b[1;33m.\u001b[0m\u001b[0muser\u001b[0m \u001b[1;33m=\u001b[0m \u001b[1;34m\"Ali\"\u001b[0m\u001b[1;33m\u001b[0m\u001b[1;33m\u001b[0m\u001b[0m\n\u001b[1;32m---> 32\u001b[1;33m \u001b[0mStd\u001b[0m\u001b[1;33m.\u001b[0m\u001b[0mlogin\u001b[0m\u001b[1;33m(\u001b[0m\u001b[1;34m'Ali'\u001b[0m\u001b[1;33m,\u001b[0m\u001b[1;34m'123'\u001b[0m\u001b[1;33m)\u001b[0m\u001b[1;33m\u001b[0m\u001b[1;33m\u001b[0m\u001b[0m\n\u001b[0m",
      "\u001b[1;31mTypeError\u001b[0m: login() missing 1 required positional argument: 'password'"
     ]
    }
   ],
   "source": [
    "class Std():\n",
    "    \n",
    "    counter = 0\n",
    "    \n",
    "    def __init__(self,sid):\n",
    "        self.sid = sid\n",
    "        self.name = \"\"\n",
    "        self.fname = \"\"\n",
    "        self.course = \"\"\n",
    "        self.fee = 0\n",
    "        self.user = \"\"\n",
    "        Std.counter += 1\n",
    "        \n",
    "        \n",
    "    def login(self,user,password):\n",
    "        self.user = user_name\n",
    "        print('Welcome', self.user)\n",
    "    \n",
    "    def logout():\n",
    "        pass\n",
    "    \n",
    "    def quizz_attemp():\n",
    "        pass\n",
    "        \n",
    "s1 = Std(1)\n",
    "s2 = Std(2)\n",
    "s3 = Std(100)\n",
    "\n",
    "Std.counter\n",
    "\n",
    "s1.user = \"Ali\"\n",
    "Std.login('Ali','123')"
   ]
  },
  {
   "cell_type": "markdown",
   "metadata": {},
   "source": [
    "# Inheriance"
   ]
  },
  {
   "cell_type": "code",
   "execution_count": 28,
   "metadata": {},
   "outputs": [],
   "source": [
    "class Parent():\n",
    "    def __init__(self):\n",
    "        self.name = \"\"\n",
    "        self.fname = \"\"\n",
    "        \n",
    "    def speak(self, words = \"\"):\n",
    "        print(words,\"...\")\n",
    "\n",
    "    def eat(self, food = \"roti\"):\n",
    "        print(food)\n",
    "\n",
    "class Child(Parent):\n",
    "    pass"
   ]
  },
  {
   "cell_type": "code",
   "execution_count": 29,
   "metadata": {},
   "outputs": [
    {
     "name": "stdout",
     "output_type": "stream",
     "text": [
      "ABC\n"
     ]
    }
   ],
   "source": [
    "p_obj1 = Parent()\n",
    "p_obj1.name = \"ABC\"\n",
    "print(p_obj1.name)"
   ]
  },
  {
   "cell_type": "code",
   "execution_count": 30,
   "metadata": {},
   "outputs": [
    {
     "name": "stdout",
     "output_type": "stream",
     "text": [
      "BCD\n"
     ]
    }
   ],
   "source": [
    "c_obj = Child()\n",
    "c_obj.name = \"BCD\"\n",
    "print(c_obj.name)"
   ]
  },
  {
   "cell_type": "code",
   "execution_count": 2,
   "metadata": {},
   "outputs": [
    {
     "name": "stdout",
     "output_type": "stream",
     "text": [
      "Sohail\n",
      "M Sohail\n",
      "Moon\n"
     ]
    }
   ],
   "source": [
    "class father():\n",
    "    def __init__(self):\n",
    "        self.name = None\n",
    "        self.fname = None\n",
    "        \n",
    "class mother():\n",
    "    def __init__(self):\n",
    "        self.name = None\n",
    "        self.mname = None\n",
    "\n",
    "class child(father,mother):\n",
    "    pass \n",
    "\n",
    "f_obj1 = father()\n",
    "m_obj1 = mother()\n",
    "c_obj1 = child()\n",
    "\n",
    "f_obj1.fname = \"Sohail\"\n",
    "m_obj1.mname = \"M Sohail\"\n",
    "c_obj1.name = 'Moon'\n",
    "\n",
    "print(f_obj1.fname, m_obj1.mname, c_obj1.name, sep = '\\n')"
   ]
  },
  {
   "cell_type": "markdown",
   "metadata": {},
   "source": [
    "# Over Riding"
   ]
  },
  {
   "cell_type": "code",
   "execution_count": 1,
   "metadata": {},
   "outputs": [
    {
     "name": "stdout",
     "output_type": "stream",
     "text": [
      "Speak Function Class B\n"
     ]
    }
   ],
   "source": [
    "class A():\n",
    "    def speak(self):\n",
    "        print(\"Speak Function Class A\")\n",
    "\n",
    "class B(A):\n",
    "    def speak(self):\n",
    "        print(\"Speak Function Class B\")\n",
    "\n",
    "obj1 = B()\n",
    "obj1.speak()"
   ]
  }
 ],
 "metadata": {
  "kernelspec": {
   "display_name": "Python 3",
   "language": "python",
   "name": "python3"
  },
  "language_info": {
   "codemirror_mode": {
    "name": "ipython",
    "version": 3
   },
   "file_extension": ".py",
   "mimetype": "text/x-python",
   "name": "python",
   "nbconvert_exporter": "python",
   "pygments_lexer": "ipython3",
   "version": "3.7.3"
  }
 },
 "nbformat": 4,
 "nbformat_minor": 2
}
