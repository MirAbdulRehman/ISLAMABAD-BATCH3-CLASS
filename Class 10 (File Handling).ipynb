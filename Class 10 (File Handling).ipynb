{
 "cells": [
  {
   "cell_type": "markdown",
   "metadata": {},
   "source": [
    "# File Handling"
   ]
  },
  {
   "cell_type": "code",
   "execution_count": 17,
   "metadata": {},
   "outputs": [],
   "source": [
    "d = open('Class 10 (File Handling) (Data) (1).txt')"
   ]
  },
  {
   "cell_type": "code",
   "execution_count": 18,
   "metadata": {},
   "outputs": [
    {
     "name": "stdout",
     "output_type": "stream",
     "text": [
      "['My name is Mir AbdulRehman.\\n', \"I'm 20 years old.\\n\", \"I'm a Student at PIAIC.\\n\", \"I'm studing Artificial Intelligance.\"]\n"
     ]
    }
   ],
   "source": [
    "print(list(d))\n",
    "d.close()"
   ]
  },
  {
   "cell_type": "code",
   "execution_count": 19,
   "metadata": {},
   "outputs": [
    {
     "name": "stdout",
     "output_type": "stream",
     "text": [
      "My name is Mir AbdulRehman.\n",
      "\n",
      "I'm 20 years old.\n",
      "\n",
      "I'm a Student at PIAIC.\n",
      "\n",
      "I'm studing Artificial Intelligance.\n"
     ]
    }
   ],
   "source": [
    "d = open('Class 10 (File Handling) (Data) (1).txt')\n",
    "\n",
    "for line in d:\n",
    "    print(line)"
   ]
  },
  {
   "cell_type": "code",
   "execution_count": 20,
   "metadata": {},
   "outputs": [
    {
     "name": "stdout",
     "output_type": "stream",
     "text": [
      "<class 'str'>\n",
      "My name is Mir AbdulRehman.\n",
      "I'm 20 years old.\n",
      "I'm a Student at PIAIC.\n",
      "I'm studing Artificial Intelligance.\n"
     ]
    }
   ],
   "source": [
    "# with function automatically closes files when any file is used.\n",
    "with open('Class 10 (File Handling) (Data) (1).txt') as file:\n",
    "    content = file.read()\n",
    "    print(type(content))\n",
    "    print(content)"
   ]
  },
  {
   "cell_type": "code",
   "execution_count": 21,
   "metadata": {},
   "outputs": [
    {
     "name": "stdout",
     "output_type": "stream",
     "text": [
      "<class 'builtin_function_or_method'>\n",
      "<built-in method readlines of _io.TextIOWrapper object at 0x0000027AC0CF9048>\n"
     ]
    }
   ],
   "source": [
    "# with function automatically closes files when any file is used.\n",
    "with open('Class 10 (File Handling) (Data) (1).txt') as file:\n",
    "    content = file.readlines\n",
    "    print(type(content))\n",
    "    print(content)"
   ]
  },
  {
   "cell_type": "code",
   "execution_count": 22,
   "metadata": {},
   "outputs": [],
   "source": [
    "# The w mode will create a non-existing file and write data in it.\n",
    "with open('Class 10 (File Handling) (Data) (2).txt', mode = 'w') as file:\n",
    "    file.write('Hello World')"
   ]
  },
  {
   "cell_type": "code",
   "execution_count": 23,
   "metadata": {},
   "outputs": [],
   "source": [
    "# The w mode will update the file and truncate the file to write new data.\n",
    "with open('Class 10 (File Handling) (Data) (2).txt', mode = 'w') as file:\n",
    "    file.write('We are Pakistani!')"
   ]
  },
  {
   "cell_type": "code",
   "execution_count": 24,
   "metadata": {},
   "outputs": [],
   "source": [
    "# The a mode will create a non-existing file and write data.\n",
    "with open('Class 10 (File Handling) (Data) (3).txt', 'a') as f:\n",
    "    f.write('Hello World!')"
   ]
  },
  {
   "cell_type": "code",
   "execution_count": 25,
   "metadata": {},
   "outputs": [],
   "source": [
    "# The a mode will append new data in the file in the end of the line.\n",
    "with open('Class 10 (File Handling) (Data) (3).txt', 'a') as f:\n",
    "    f.write(\"\\nI'm Pakistani!\")"
   ]
  },
  {
   "cell_type": "code",
   "execution_count": 28,
   "metadata": {},
   "outputs": [
    {
     "name": "stdout",
     "output_type": "stream",
     "text": [
      "['Hello world!\\n', \" I'm Pakistani.Hello world!\\n\", \" I'm Pakistani.Hello world!\\n\", \" I'm Pakistani.\"]\n"
     ]
    }
   ],
   "source": [
    "# The +a mode will append new data in the file in the end of the line and set cursor position to end of line and can also read .\n",
    "with open('Class 10 (File Handling) (Data) (4).txt', 'a+') as f:\n",
    "    f.write(\"Hello world!\\n I'm Pakistani.\")\n",
    "    f.seek(0)  # Cursor position set to start.\n",
    "    c = f.readlines()\n",
    "    print(c)"
   ]
  },
  {
   "cell_type": "code",
   "execution_count": 61,
   "metadata": {},
   "outputs": [
    {
     "name": "stdout",
     "output_type": "stream",
     "text": [
      "['123\\n', 'ABC']\n"
     ]
    }
   ],
   "source": [
    "with open('Class 10 (File Handling) (Data) (Test).txt', 'a+') as f:\n",
    "    f.write('123\\n')\n",
    "    f.write('ABC')\n",
    "    f.seek(0)\n",
    "    b = f.readlines()\n",
    "    c = a + b\n",
    "    print(c)"
   ]
  },
  {
   "cell_type": "code",
   "execution_count": 71,
   "metadata": {},
   "outputs": [],
   "source": [
    "import matplotlib.pyplot as plt\n",
    "import matplotlib.image as mpimg\n",
    "import numpy as nm\n",
    "import pandas as pd"
   ]
  },
  {
   "cell_type": "code",
   "execution_count": null,
   "metadata": {},
   "outputs": [],
   "source": []
  }
 ],
 "metadata": {
  "kernelspec": {
   "display_name": "Python 3",
   "language": "python",
   "name": "python3"
  },
  "language_info": {
   "codemirror_mode": {
    "name": "ipython",
    "version": 3
   },
   "file_extension": ".py",
   "mimetype": "text/x-python",
   "name": "python",
   "nbconvert_exporter": "python",
   "pygments_lexer": "ipython3",
   "version": "3.7.3"
  }
 },
 "nbformat": 4,
 "nbformat_minor": 2
}
