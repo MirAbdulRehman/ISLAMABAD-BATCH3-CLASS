{
 "cells": [
  {
   "cell_type": "markdown",
   "metadata": {},
   "source": [
    "# Topics"
   ]
  },
  {
   "cell_type": "markdown",
   "metadata": {},
   "source": [
    "<ul>\n",
    "<li>Class</li>\n",
    "<li>Instance</li>\n",
    "<li>Method</li>\n",
    "<li>Attributs/Properties</li>\n",
    "<li>Inheritance</li>\n",
    "<li>Polymorphism</li>\n",
    "<li>Encapsulation</li>\n",
    "<li>Abstraction</li>\n",
    "</ul>"
   ]
  },
  {
   "cell_type": "markdown",
   "metadata": {},
   "source": [
    "# Encapsulation"
   ]
  },
  {
   "cell_type": "code",
   "execution_count": 3,
   "metadata": {},
   "outputs": [],
   "source": [
    "class A():\n",
    "    def __init__(self,name,age):\n",
    "        self.__sname = name # Private\n",
    "        self.__sage = age # Private\n",
    "        \n",
    "obj1 = A('Ali',25)"
   ]
  },
  {
   "cell_type": "code",
   "execution_count": 5,
   "metadata": {},
   "outputs": [
    {
     "ename": "AttributeError",
     "evalue": "'A' object has no attribute 'sname'",
     "output_type": "error",
     "traceback": [
      "\u001b[1;31m---------------------------------------------------------------------------\u001b[0m",
      "\u001b[1;31mAttributeError\u001b[0m                            Traceback (most recent call last)",
      "\u001b[1;32m<ipython-input-5-ba155391b82f>\u001b[0m in \u001b[0;36m<module>\u001b[1;34m\u001b[0m\n\u001b[1;32m----> 1\u001b[1;33m \u001b[0mobj1\u001b[0m\u001b[1;33m.\u001b[0m\u001b[0msname\u001b[0m \u001b[1;31m# Private cannot be accessed outside the class boundries\u001b[0m\u001b[1;33m\u001b[0m\u001b[1;33m\u001b[0m\u001b[0m\n\u001b[0m",
      "\u001b[1;31mAttributeError\u001b[0m: 'A' object has no attribute 'sname'"
     ]
    }
   ],
   "source": [
    "obj1.sname # Private cannot be accessed outside the class boundries"
   ]
  },
  {
   "cell_type": "code",
   "execution_count": 7,
   "metadata": {},
   "outputs": [
    {
     "data": {
      "text/plain": [
       "'Ali'"
      ]
     },
     "execution_count": 7,
     "metadata": {},
     "output_type": "execute_result"
    }
   ],
   "source": [
    "obj1._A__sname # Accessing Private data using Class Refrence"
   ]
  },
  {
   "cell_type": "code",
   "execution_count": 20,
   "metadata": {},
   "outputs": [],
   "source": [
    "class A():\n",
    "    def __init__(self,name,age):\n",
    "        self.__sname = name # Private\n",
    "        self.__sage = age # Private\n",
    "        \n",
    "    def display(self):\n",
    "        print('name:',self.__sname)\n",
    "        print('Age:',self.__sage)\n",
    "        \n",
    "    \n",
    "    def change(self,a,b):\n",
    "        self.__sname = a\n",
    "        self.__sage = b\n",
    "    \n",
    "obj1 = A('Ali',25)"
   ]
  },
  {
   "cell_type": "code",
   "execution_count": 13,
   "metadata": {},
   "outputs": [
    {
     "name": "stdout",
     "output_type": "stream",
     "text": [
      "name: Ali\n",
      "Age: 25\n"
     ]
    }
   ],
   "source": [
    "obj1.display()"
   ]
  },
  {
   "cell_type": "code",
   "execution_count": 21,
   "metadata": {},
   "outputs": [
    {
     "name": "stdout",
     "output_type": "stream",
     "text": [
      "name: Asif\n",
      "Age: 30\n"
     ]
    }
   ],
   "source": [
    "obj1.change('Asif',30)\n",
    "obj1.display()"
   ]
  },
  {
   "cell_type": "code",
   "execution_count": 24,
   "metadata": {},
   "outputs": [],
   "source": [
    "class A():\n",
    "    def __init__(self,name,age):\n",
    "        self.__sname = name # Private\n",
    "        self.__sage = age # Private\n",
    "        \n",
    "    def display(self):\n",
    "        print('name:',self.__sname)\n",
    "        print('Age:',self.__sage)\n",
    "        \n",
    "    \n",
    "    def change(self,a,b):\n",
    "        self.__sname = a\n",
    "        self.__sage = b\n",
    "    def __info(self):\n",
    "        print('Hello World')\n",
    "    \n",
    "    def abc(self):\n",
    "        self.__info()\n",
    "    \n",
    "obj1 = A('Ali',25)"
   ]
  },
  {
   "cell_type": "code",
   "execution_count": 25,
   "metadata": {},
   "outputs": [
    {
     "name": "stdout",
     "output_type": "stream",
     "text": [
      "Hello World\n"
     ]
    }
   ],
   "source": [
    "obj1.abc()"
   ]
  },
  {
   "cell_type": "markdown",
   "metadata": {},
   "source": [
    "# Abstract Class"
   ]
  },
  {
   "cell_type": "code",
   "execution_count": 26,
   "metadata": {},
   "outputs": [],
   "source": [
    "class A:\n",
    "    def __init__(self,a,b):\n",
    "        self.a = a\n",
    "        self.b = b\n",
    "class B(A):\n",
    "    pass"
   ]
  },
  {
   "cell_type": "code",
   "execution_count": 27,
   "metadata": {},
   "outputs": [],
   "source": [
    "obj1 = A(3,4)"
   ]
  },
  {
   "cell_type": "code",
   "execution_count": 28,
   "metadata": {},
   "outputs": [],
   "source": [
    "obj2 = B(7,8)"
   ]
  },
  {
   "cell_type": "code",
   "execution_count": 29,
   "metadata": {},
   "outputs": [
    {
     "name": "stdout",
     "output_type": "stream",
     "text": [
      "3\n",
      "4\n"
     ]
    }
   ],
   "source": [
    "print(obj1.a)\n",
    "print(obj1.b)"
   ]
  },
  {
   "cell_type": "code",
   "execution_count": 1,
   "metadata": {},
   "outputs": [
    {
     "ename": "TypeError",
     "evalue": "Can't instantiate abstract class A with abstract methods __init__",
     "output_type": "error",
     "traceback": [
      "\u001b[1;31m---------------------------------------------------------------------------\u001b[0m",
      "\u001b[1;31mTypeError\u001b[0m                                 Traceback (most recent call last)",
      "\u001b[1;32m<ipython-input-1-e41004cf7b99>\u001b[0m in \u001b[0;36m<module>\u001b[1;34m\u001b[0m\n\u001b[0;32m     10\u001b[0m     \u001b[1;32mpass\u001b[0m\u001b[1;33m\u001b[0m\u001b[1;33m\u001b[0m\u001b[0m\n\u001b[0;32m     11\u001b[0m \u001b[1;33m\u001b[0m\u001b[0m\n\u001b[1;32m---> 12\u001b[1;33m \u001b[0mobj1\u001b[0m \u001b[1;33m=\u001b[0m \u001b[0mA\u001b[0m\u001b[1;33m(\u001b[0m\u001b[1;36m5\u001b[0m\u001b[1;33m,\u001b[0m\u001b[1;36m3\u001b[0m\u001b[1;33m)\u001b[0m \u001b[1;31m# Cannot create a direct object pr instance of an abstract class.\u001b[0m\u001b[1;33m\u001b[0m\u001b[1;33m\u001b[0m\u001b[0m\n\u001b[0m",
      "\u001b[1;31mTypeError\u001b[0m: Can't instantiate abstract class A with abstract methods __init__"
     ]
    }
   ],
   "source": [
    "from abc import ABC, abstractmethod  # Class starts with Capital Latter and function starts with small latters.\n",
    "\n",
    "class A(ABC):\n",
    "    @abstractmethod\n",
    "    def __init__(self,a,b):\n",
    "        self.a = a\n",
    "        self.b = b\n",
    "\n",
    "class B(A):\n",
    "    pass\n",
    "\n",
    "obj1 = A(5,3) # Cannot create a direct object pr instance of an abstract class."
   ]
  },
  {
   "cell_type": "code",
   "execution_count": 32,
   "metadata": {},
   "outputs": [],
   "source": [
    "obj2 = B(5,3)"
   ]
  },
  {
   "cell_type": "code",
   "execution_count": 2,
   "metadata": {},
   "outputs": [
    {
     "ename": "TypeError",
     "evalue": "Can't instantiate abstract class A with abstract methods __init__",
     "output_type": "error",
     "traceback": [
      "\u001b[1;31m---------------------------------------------------------------------------\u001b[0m",
      "\u001b[1;31mTypeError\u001b[0m                                 Traceback (most recent call last)",
      "\u001b[1;32m<ipython-input-2-838d326d58ee>\u001b[0m in \u001b[0;36m<module>\u001b[1;34m\u001b[0m\n\u001b[0;32m     10\u001b[0m     \u001b[1;32mpass\u001b[0m\u001b[1;33m\u001b[0m\u001b[1;33m\u001b[0m\u001b[0m\n\u001b[0;32m     11\u001b[0m \u001b[1;33m\u001b[0m\u001b[0m\n\u001b[1;32m---> 12\u001b[1;33m \u001b[0mobj1\u001b[0m \u001b[1;33m=\u001b[0m \u001b[0mA\u001b[0m\u001b[1;33m(\u001b[0m\u001b[1;36m5\u001b[0m\u001b[1;33m,\u001b[0m\u001b[1;36m3\u001b[0m\u001b[1;33m)\u001b[0m \u001b[1;31m# Cannot create a direct object pr instance of an abstract class.\u001b[0m\u001b[1;33m\u001b[0m\u001b[1;33m\u001b[0m\u001b[0m\n\u001b[0m",
      "\u001b[1;31mTypeError\u001b[0m: Can't instantiate abstract class A with abstract methods __init__"
     ]
    }
   ],
   "source": [
    "from abc import ABC, abstractmethod  # Class starts with Capital Latter and function starts with small latters.\n",
    "\n",
    "class Human(ABC):\n",
    "    @abstractmethod\n",
    "    def __init__(self,a,b):\n",
    "        self.sname = a\n",
    "        self.sage = b\n",
    "\n",
    "class B(A):\n",
    "    pass\n",
    "\n",
    "obj1 = A(5,3) # Cannot create a direct object pr instance of an abstract class."
   ]
  },
  {
   "cell_type": "code",
   "execution_count": 42,
   "metadata": {},
   "outputs": [
    {
     "ename": "TypeError",
     "evalue": "Can't instantiate abstract class Human with abstract methods __init__",
     "output_type": "error",
     "traceback": [
      "\u001b[1;31m---------------------------------------------------------------------------\u001b[0m",
      "\u001b[1;31mTypeError\u001b[0m                                 Traceback (most recent call last)",
      "\u001b[1;32m<ipython-input-42-6a946157e6aa>\u001b[0m in \u001b[0;36m<module>\u001b[1;34m\u001b[0m\n\u001b[0;32m     13\u001b[0m         \u001b[1;32mreturn\u001b[0m \u001b[1;34m\"Object name is {} {} old.\"\u001b[0m\u001b[1;33m.\u001b[0m\u001b[0mformat\u001b[0m\u001b[1;33m(\u001b[0m\u001b[0mself\u001b[0m\u001b[1;33m.\u001b[0m\u001b[0msname\u001b[0m\u001b[1;33m,\u001b[0m\u001b[0mself\u001b[0m\u001b[1;33m.\u001b[0m\u001b[0msage\u001b[0m\u001b[1;33m)\u001b[0m\u001b[1;33m\u001b[0m\u001b[1;33m\u001b[0m\u001b[0m\n\u001b[0;32m     14\u001b[0m \u001b[1;33m\u001b[0m\u001b[0m\n\u001b[1;32m---> 15\u001b[1;33m \u001b[0mobj1\u001b[0m \u001b[1;33m=\u001b[0m \u001b[0mHuman\u001b[0m\u001b[1;33m(\u001b[0m\u001b[1;33m)\u001b[0m\u001b[1;33m\u001b[0m\u001b[1;33m\u001b[0m\u001b[0m\n\u001b[0m\u001b[0;32m     16\u001b[0m \u001b[0mobj1\u001b[0m\u001b[1;33m.\u001b[0m\u001b[0mdisplay\u001b[0m\u001b[1;33m(\u001b[0m\u001b[1;34m'Moon'\u001b[0m\u001b[1;33m,\u001b[0m\u001b[1;36m25\u001b[0m\u001b[1;33m)\u001b[0m\u001b[1;33m\u001b[0m\u001b[1;33m\u001b[0m\u001b[0m\n",
      "\u001b[1;31mTypeError\u001b[0m: Can't instantiate abstract class Human with abstract methods __init__"
     ]
    }
   ],
   "source": [
    "from abc import ABC, abstractmethod  # Class starts with Capital Latter and function starts with small latters.\n",
    "\n",
    "class Human(ABC):\n",
    "   \n",
    "    @abstractmethod\n",
    "    def __init__(self):\n",
    "        self.name = None\n",
    "        self.age = None\n",
    "        \n",
    "    def display(self,name,age):\n",
    "        self.name = name\n",
    "        self.age = age\n",
    "        return \"Object name is {} {} old.\".format(self.sname,self.sage)\n",
    "    \n",
    "obj1 = Human()\n",
    "obj1.display('Moon',25)"
   ]
  },
  {
   "cell_type": "code",
   "execution_count": 43,
   "metadata": {},
   "outputs": [],
   "source": [
    "class Male(Human):\n",
    "    \n",
    "    def __init__(self):\n",
    "        self.name = \"Moon\"\n",
    "        self.fname = \"Sohail Sharif Mir\"\n",
    "        \n",
    "    def language(self):\n",
    "        return \"Hahahahah\"\n",
    "    \n",
    "obj1 = Male()"
   ]
  },
  {
   "cell_type": "code",
   "execution_count": 68,
   "metadata": {},
   "outputs": [],
   "source": [
    "class A():\n",
    "    def __init__(self,a,b):\n",
    "        self.a = a\n",
    "        self.b = b\n",
    "    \n",
    "    def age(self,a,b):\n",
    "        self.aage = None\n",
    "        self.bage = None\n",
    "        return\n",
    "    \n",
    "    def display(self):\n",
    "        print(self.a)\n",
    "        print(self.b)\n",
    "    \n",
    "    \n",
    "class B(A):\n",
    "    pass\n",
    "\n",
    "obj1 = A(\"Moon\",20)\n",
    "obj1.age(21,23)\n",
    "obj2 = B(\"Ali\",16)"
   ]
  },
  {
   "cell_type": "code",
   "execution_count": 69,
   "metadata": {},
   "outputs": [
    {
     "name": "stdout",
     "output_type": "stream",
     "text": [
      "Moon\n",
      "20\n"
     ]
    }
   ],
   "source": [
    "obj1.display()"
   ]
  },
  {
   "cell_type": "code",
   "execution_count": 57,
   "metadata": {},
   "outputs": [
    {
     "name": "stdout",
     "output_type": "stream",
     "text": [
      "Ali\n",
      "16\n"
     ]
    }
   ],
   "source": [
    "obj2.display()"
   ]
  },
  {
   "cell_type": "markdown",
   "metadata": {},
   "source": [
    "# Exception Handelling"
   ]
  },
  {
   "cell_type": "markdown",
   "metadata": {},
   "source": [
    "Link for Tutorials https://www.tutorialspoint.com/python/python_exceptions.htm"
   ]
  },
  {
   "cell_type": "markdown",
   "metadata": {},
   "source": [
    "### Syntax for Exception Handelling:"
   ]
  },
  {
   "cell_type": "raw",
   "metadata": {},
   "source": [
    "try:\n",
    "    Your Code\n",
    "except (err1class,err2Class):\n",
    "    message show against your errClass\n",
    "else:\n",
    "    message show if exception did'nt raise\n",
    "finally:\n",
    "    always run this block"
   ]
  },
  {
   "cell_type": "code",
   "execution_count": 74,
   "metadata": {},
   "outputs": [
    {
     "name": "stdout",
     "output_type": "stream",
     "text": [
      "Enter a Number: 2\n",
      "Cannot divide any number by 0.\n"
     ]
    }
   ],
   "source": [
    "a = int(input(\"Enter a Number: \"))\n",
    "b = 0\n",
    "try:\n",
    "    print(a / b)\n",
    "except (ZeroDivisionError,TypeError):\n",
    "    print('Cannot divide any number by 0.')"
   ]
  },
  {
   "cell_type": "code",
   "execution_count": 75,
   "metadata": {},
   "outputs": [
    {
     "name": "stdout",
     "output_type": "stream",
     "text": [
      "Start...........\n",
      "ABC\n",
      "End.............\n"
     ]
    }
   ],
   "source": [
    "print(\"Start...........\")\n",
    "\n",
    "try:\n",
    "    open('abc.txt')\n",
    "    a = [2,3]\n",
    "    print(a[7])\n",
    "    print(6/0)\n",
    "except (FileNotFoundError,ZeroDivisionError,IndexError):\n",
    "    print(\"ABC\")\n",
    "\n",
    "print('End.............')"
   ]
  },
  {
   "cell_type": "code",
   "execution_count": 77,
   "metadata": {},
   "outputs": [
    {
     "name": "stdout",
     "output_type": "stream",
     "text": [
      "Start...........\n",
      "File Not Found.\n",
      "Index Error\n",
      "Zero Division Error\n",
      "End.............\n"
     ]
    }
   ],
   "source": [
    "print(\"Start...........\")\n",
    "\n",
    "try:\n",
    "    open('abc.txt')\n",
    "except (FileNotFoundError):\n",
    "    print('File Not Found.')\n",
    "try:    \n",
    "    a = [2,3]\n",
    "    print(a[7])\n",
    "\n",
    "except (IndexError):\n",
    "    print('Index Error')\n",
    "\n",
    "try:    \n",
    "    print(6/0)\n",
    "\n",
    "except (ZeroDivisionError):\n",
    "    print('Zero Division Error')\n",
    "\n",
    "print('End.............')"
   ]
  },
  {
   "cell_type": "code",
   "execution_count": 78,
   "metadata": {},
   "outputs": [
    {
     "name": "stdout",
     "output_type": "stream",
     "text": [
      "Start...........\n",
      "Sorry [Errno 2] No such file or directory: 'abc.txt'\n",
      "End.............\n"
     ]
    }
   ],
   "source": [
    "print(\"Start...........\")\n",
    "\n",
    "try:\n",
    "    open('abc.txt')\n",
    "    a = [2,3]\n",
    "    print(a[7])\n",
    "    print(6/0)\n",
    "except Exception as e:\n",
    "    print(\"Sorry\",e)\n",
    "\n",
    "print('End.............')"
   ]
  },
  {
   "cell_type": "code",
   "execution_count": 79,
   "metadata": {},
   "outputs": [
    {
     "name": "stdout",
     "output_type": "stream",
     "text": [
      "Start...........\n",
      "Sorry list index out of range\n",
      "End.............\n"
     ]
    }
   ],
   "source": [
    "print(\"Start...........\")\n",
    "\n",
    "try:\n",
    "   # open('abc.txt')\n",
    "    a = [2,3]\n",
    "    print(a[7])\n",
    "    print(6/0)\n",
    "except Exception as error:\n",
    "    print(\"Sorry\",error)\n",
    "\n",
    "print('End.............')"
   ]
  },
  {
   "cell_type": "code",
   "execution_count": 80,
   "metadata": {},
   "outputs": [
    {
     "name": "stdout",
     "output_type": "stream",
     "text": [
      "Start...........\n",
      "Sorry division by zero\n",
      "End.............\n"
     ]
    }
   ],
   "source": [
    "print(\"Start...........\")\n",
    "\n",
    "try:\n",
    "   # open('abc.txt')\n",
    "    a = [2,3]\n",
    "   # print(a[7])\n",
    "    print(6/0)\n",
    "except Exception as er:\n",
    "    print(\"Sorry\",er)\n",
    "\n",
    "print('End.............')"
   ]
  },
  {
   "cell_type": "markdown",
   "metadata": {},
   "source": [
    "# Raise"
   ]
  },
  {
   "cell_type": "code",
   "execution_count": 95,
   "metadata": {},
   "outputs": [
    {
     "data": {
      "text/plain": [
       "18"
      ]
     },
     "execution_count": 95,
     "metadata": {},
     "output_type": "execute_result"
    }
   ],
   "source": [
    "class Student():\n",
    "    def __init__(self,age):\n",
    "        self.age = age\n",
    "        if (age < 18 or age > 80):\n",
    "            raise Exception('Age Rage 18 to 80')\n",
    "\n",
    "obj1 = Student(18)\n",
    "obj1.age"
   ]
  }
 ],
 "metadata": {
  "kernelspec": {
   "display_name": "Python 3",
   "language": "python",
   "name": "python3"
  },
  "language_info": {
   "codemirror_mode": {
    "name": "ipython",
    "version": 3
   },
   "file_extension": ".py",
   "mimetype": "text/x-python",
   "name": "python",
   "nbconvert_exporter": "python",
   "pygments_lexer": "ipython3",
   "version": "3.7.3"
  }
 },
 "nbformat": 4,
 "nbformat_minor": 2
}
