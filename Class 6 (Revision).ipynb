{
 "cells": [
  {
   "cell_type": "markdown",
   "metadata": {},
   "source": [
    "# Revision Class "
   ]
  },
  {
   "cell_type": "raw",
   "metadata": {},
   "source": [
    "Condition (if else)\n",
    "Lists\n",
    "Loops (for & while)\n",
    "Dictionaries"
   ]
  },
  {
   "cell_type": "code",
   "execution_count": 4,
   "metadata": {},
   "outputs": [
    {
     "name": "stdout",
     "output_type": "stream",
     "text": [
      "Enter grade: 59\n",
      "E\n"
     ]
    }
   ],
   "source": [
    "# Condition (if else)\n",
    "\n",
    "marks = input('Enter grade: ')\n",
    "marks  = int(marks)\n",
    "\n",
    "if marks >= 90:\n",
    "    print('Grade A')\n",
    "elif marks >= 80:\n",
    "    print('Grade B')\n",
    "elif marks >= 70:\n",
    "    print('Grade C')\n",
    "elif marks >=60:\n",
    "    print('D')\n",
    "else:\n",
    "    print('E')"
   ]
  },
  {
   "cell_type": "code",
   "execution_count": 13,
   "metadata": {},
   "outputs": [
    {
     "name": "stdout",
     "output_type": "stream",
     "text": [
      "Enter Time: 9\n",
      "Enter day of the week: monday\n",
      "Enter return days: 4\n",
      "Enter Y/N if scratched: Y\n",
      "Your charge on sunday: 5.498\n"
     ]
    }
   ],
   "source": [
    "time = input('Enter Time: ')\n",
    "time = int(time)\n",
    "\n",
    "day = input('Enter day of the week: ')\n",
    "\n",
    "rent = 1.59\n",
    "\n",
    "return_days = input('Enter return days: ')\n",
    "return_days = int(return_days)\n",
    "\n",
    "total_rent = rent * return_days\n",
    "\n",
    "scratched = input('Enter Y/N if scratched: ')\n",
    "\n",
    "if day ==  'Sunday' or 'sunday':\n",
    "    charge = total_rent*30/100\n",
    "    if time > 8:\n",
    "        charge = charge + 1.59\n",
    "    if scratched == 'Y':\n",
    "        charge = charge + 2\n",
    "    print('Your charge on sunday:', charge)\n",
    "\n",
    "elif day == 'Thursday' or 'thursday':\n",
    "    charge = total_rent*50/100\n",
    "    if time > 8:\n",
    "        charge = charge +1.59\n",
    "\n",
    "    if scratched == 'Y':\n",
    "        charge = charge + 2\n",
    "    print('Your charge on Thursday:',charge)\n",
    "\n",
    "else:\n",
    "    if time > 8:\n",
    "        charge = charge + 1.59\n",
    "\n",
    "    if scratched == 'Y':\n",
    "        charge = charge + 1\n",
    "    print('Your charge:',charge)"
   ]
  }
 ],
 "metadata": {
  "kernelspec": {
   "display_name": "Python 3",
   "language": "python",
   "name": "python3"
  },
  "language_info": {
   "codemirror_mode": {
    "name": "ipython",
    "version": 3
   },
   "file_extension": ".py",
   "mimetype": "text/x-python",
   "name": "python",
   "nbconvert_exporter": "python",
   "pygments_lexer": "ipython3",
   "version": "3.7.6"
  }
 },
 "nbformat": 4,
 "nbformat_minor": 2
}
