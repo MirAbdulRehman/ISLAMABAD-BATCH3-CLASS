{
 "cells": [
  {
   "cell_type": "code",
   "execution_count": 11,
   "metadata": {},
   "outputs": [
    {
     "name": "stdout",
     "output_type": "stream",
     "text": [
      "\n",
      "PIAIC ISLAMABAD BATCH 3\n",
      "Name: Mir AbdulRehman\n",
      "Father Name: Sohail Mir\n",
      "University: Bahria University\n",
      "\n",
      "\n",
      "PIAIC ISLAMABAD BATCH 3\n",
      "Name: Anwar\n",
      "Father Name: Shahid\n",
      "University: Bahria University\n",
      "\n",
      "\n",
      "PIAIC ISLAMABAD BATCH 3\n",
      "Name: Usman\n",
      "Father Name: Junaid\n",
      "University: Bahria University\n",
      "\n"
     ]
    }
   ],
   "source": [
    "name1 = \"Mir AbdulRehman\"\n",
    "name2 = \"Anwar\"\n",
    "name3 = \"Usman\"\n",
    "\n",
    "father_name1 = \"Sohail Mir\"\n",
    "father_name2 = \"Shahid\"\n",
    "father_name3 = \"Junaid\"\n",
    "\n",
    "university = \"Bahria University\"\n",
    "\n",
    "\n",
    "card1 = \"\"\"\n",
    "PIAIC ISLAMABAD BATCH 3\n",
    "Name: {}\n",
    "Father Name: {}\n",
    "University: {}\n",
    "\"\"\".format(name1, father_name1, university)\n",
    "\n",
    "card2 = \"\"\"\n",
    "PIAIC ISLAMABAD BATCH 3\n",
    "Name: {}\n",
    "Father Name: {}\n",
    "University: {}\n",
    "\"\"\".format(name2, father_name2, university)\n",
    "\n",
    "\n",
    "card3 = \"\"\"\n",
    "PIAIC ISLAMABAD BATCH 3\n",
    "Name: {}\n",
    "Father Name: {}\n",
    "University: {}\n",
    "\"\"\".format(name3, father_name3, university)\n",
    "\n",
    "\n",
    "print(card1)\n",
    "print(card2)\n",
    "print(card3)"
   ]
  }
 ],
 "metadata": {
  "kernelspec": {
   "display_name": "Python 3",
   "language": "python",
   "name": "python3"
  },
  "language_info": {
   "codemirror_mode": {
    "name": "ipython",
    "version": 3
   },
   "file_extension": ".py",
   "mimetype": "text/x-python",
   "name": "python",
   "nbconvert_exporter": "python",
   "pygments_lexer": "ipython3",
   "version": "3.7.3"
  }
 },
 "nbformat": 4,
 "nbformat_minor": 2
}
