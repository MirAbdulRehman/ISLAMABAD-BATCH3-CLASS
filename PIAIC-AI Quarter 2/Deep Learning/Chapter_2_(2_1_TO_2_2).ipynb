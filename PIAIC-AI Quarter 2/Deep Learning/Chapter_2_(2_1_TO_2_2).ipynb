{
  "nbformat": 4,
  "nbformat_minor": 0,
  "metadata": {
    "colab": {
      "name": "Chapter-2 (2.1 TO 2.2).ipynb",
      "provenance": []
    },
    "kernelspec": {
      "name": "python3",
      "display_name": "Python 3"
    }
  },
  "cells": [
    {
      "cell_type": "markdown",
      "metadata": {
        "id": "JZQ-MwA_Sw5d",
        "colab_type": "text"
      },
      "source": [
        "**Listing 2.1.1 Mnist Dataset in Keras**"
      ]
    },
    {
      "cell_type": "code",
      "metadata": {
        "id": "JfRH_oAeSvU4",
        "colab_type": "code",
        "colab": {}
      },
      "source": [
        "from tensorflow.keras.datasets import mnist\n",
        "\n",
        "(train_images, train_labels),(test_images, test_labels) = mnist.load_data()"
      ],
      "execution_count": 1,
      "outputs": []
    },
    {
      "cell_type": "code",
      "metadata": {
        "id": "MF8G-AXmTnDa",
        "colab_type": "code",
        "colab": {
          "base_uri": "https://localhost:8080/",
          "height": 85
        },
        "outputId": "edf05c7c-9ff3-4c47-9c80-850934e1b2e4"
      },
      "source": [
        "print('Shape of train Images',train_images.shape)\n",
        "print('Lenth of train Images',len(train_images))\n",
        "\n",
        "print('Train labels',train_labels)\n",
        "print('Lenth of train lable',len(train_labels))"
      ],
      "execution_count": 2,
      "outputs": [
        {
          "output_type": "stream",
          "text": [
            "Shape of train Images (60000, 28, 28)\n",
            "Lenth of train Images 60000\n",
            "Train labels [5 0 4 ... 5 6 8]\n",
            "Lenth of train lable 60000\n"
          ],
          "name": "stdout"
        }
      ]
    },
    {
      "cell_type": "code",
      "metadata": {
        "id": "cz9_q_jSUSEa",
        "colab_type": "code",
        "colab": {
          "base_uri": "https://localhost:8080/",
          "height": 85
        },
        "outputId": "d9b6b0c6-5aa3-4b68-e3d3-08cef26112fb"
      },
      "source": [
        "print('Shape of Test Images',test_images.shape)\n",
        "print('Lenth of Test Images', len(test_images))\n",
        "\n",
        "print('Test labels',test_labels)\n",
        "print('Lenth of Test lable',len(test_labels))"
      ],
      "execution_count": 3,
      "outputs": [
        {
          "output_type": "stream",
          "text": [
            "Shape of Test Images (10000, 28, 28)\n",
            "Lenth of Test Images 10000\n",
            "Test labels [7 2 1 ... 4 5 6]\n",
            "Lenth of Test lable 10000\n"
          ],
          "name": "stdout"
        }
      ]
    },
    {
      "cell_type": "code",
      "metadata": {
        "id": "V0ygkAAWooE8",
        "colab_type": "code",
        "colab": {
          "base_uri": "https://localhost:8080/",
          "height": 282
        },
        "outputId": "95b8f37d-955c-4719-859a-1346bbe76b4d"
      },
      "source": [
        "import matplotlib.pyplot as plt\n",
        "\n",
        "i = 0\n",
        "digit = train_images[i]\n",
        "print('Class lable:',train_labels[i])\n",
        "\n",
        "#Digit.Shape\n",
        "plt.imshow(digit, cmap=plt.cm.binary)\n",
        "plt.show()"
      ],
      "execution_count": 4,
      "outputs": [
        {
          "output_type": "stream",
          "text": [
            "Class lable: 5\n"
          ],
          "name": "stdout"
        },
        {
          "output_type": "display_data",
          "data": {
            "image/png": "[encoded data removed]",
            "text/plain": [
              "<Figure size 432x288 with 1 Axes>"
            ]
          },
          "metadata": {
            "tags": [],
            "needs_background": "light"
          }
        }
      ]
    },
    {
      "cell_type": "code",
      "metadata": {
        "id": "VhwVwy0Bpq_w",
        "colab_type": "code",
        "colab": {
          "base_uri": "https://localhost:8080/",
          "height": 282
        },
        "outputId": "9eb6e45b-520a-4c51-8c78-0e083abb54bf"
      },
      "source": [
        "i=0\n",
        "digit = test_images[i]\n",
        "print(\"Class Label:\",test_labels[i])\n",
        "\n",
        "#Digit.shape\n",
        "plt.imshow(digit, cmap=plt.cm.binary)\n",
        "plt.show()"
      ],
      "execution_count": 5,
      "outputs": [
        {
          "output_type": "stream",
          "text": [
            "Class Label: 7\n"
          ],
          "name": "stdout"
        },
        {
          "output_type": "display_data",
          "data": {
            "image/png": "[encoded data removed]",
            "text/plain": [
              "<Figure size 432x288 with 1 Axes>"
            ]
          },
          "metadata": {
            "tags": [],
            "needs_background": "light"
          }
        }
      ]
    },
    {
      "cell_type": "code",
      "metadata": {
        "id": "T-h_C8IvqRUT",
        "colab_type": "code",
        "colab": {
          "base_uri": "https://localhost:8080/",
          "height": 51
        },
        "outputId": "e446552b-2046-42ef-9f34-15eb6aba20cb"
      },
      "source": [
        "import numpy as np\n",
        "print(train_labels)\n",
        "print(np.unique(train_labels))"
      ],
      "execution_count": 6,
      "outputs": [
        {
          "output_type": "stream",
          "text": [
            "[5 0 4 ... 5 6 8]\n",
            "[0 1 2 3 4 5 6 7 8 9]\n"
          ],
          "name": "stdout"
        }
      ]
    },
    {
      "cell_type": "code",
      "metadata": {
        "id": "hwmdgfNmqjrm",
        "colab_type": "code",
        "colab": {
          "base_uri": "https://localhost:8080/",
          "height": 51
        },
        "outputId": "dcaa22c1-15ef-45db-d725-6c2a63272ddd"
      },
      "source": [
        "import numpy as np\n",
        "print(test_labels)\n",
        "print(np.unique(test_labels))"
      ],
      "execution_count": 7,
      "outputs": [
        {
          "output_type": "stream",
          "text": [
            "[7 2 1 ... 4 5 6]\n",
            "[0 1 2 3 4 5 6 7 8 9]\n"
          ],
          "name": "stdout"
        }
      ]
    },
    {
      "cell_type": "markdown",
      "metadata": {
        "id": "Q5kUrlDCW1Lh",
        "colab_type": "text"
      },
      "source": [
        "**Listring 2.1.2 The Network Architectures**"
      ]
    },
    {
      "cell_type": "code",
      "metadata": {
        "id": "XhQvlIPgWq5X",
        "colab_type": "code",
        "colab": {
          "base_uri": "https://localhost:8080/",
          "height": 34
        },
        "outputId": "531e28ff-1fa6-4a28-dbdf-0cf963992052"
      },
      "source": [
        "from keras import models\n",
        "from keras import layers\n",
        "\n",
        "network = models.Sequential()\n",
        "network.add(layers.Dense(512, activation='relu', input_shape=(28*28,)))\n",
        "network.add(layers.Dense(10, activation='softmax'))"
      ],
      "execution_count": 8,
      "outputs": [
        {
          "output_type": "stream",
          "text": [
            "Using TensorFlow backend.\n"
          ],
          "name": "stderr"
        }
      ]
    },
    {
      "cell_type": "markdown",
      "metadata": {
        "id": "2UduzIzkbogt",
        "colab_type": "text"
      },
      "source": [
        "**Listing 2.1.3 The compilation step**"
      ]
    },
    {
      "cell_type": "code",
      "metadata": {
        "id": "1mu-C0ggXwyS",
        "colab_type": "code",
        "colab": {}
      },
      "source": [
        "network.compile(optimizer='rmsprop',\n",
        "                loss='categorical_crossentropy',\n",
        "                metrics=['accuracy'])"
      ],
      "execution_count": 9,
      "outputs": []
    },
    {
      "cell_type": "code",
      "metadata": {
        "id": "XpBmN2n-cpjE",
        "colab_type": "code",
        "colab": {
          "base_uri": "https://localhost:8080/",
          "height": 34
        },
        "outputId": "b8645b15-3279-4588-a341-dfd74c38b203"
      },
      "source": [
        "train_images.ndim # Dimentions of Train Images"
      ],
      "execution_count": 10,
      "outputs": [
        {
          "output_type": "execute_result",
          "data": {
            "text/plain": [
              "3"
            ]
          },
          "metadata": {
            "tags": []
          },
          "execution_count": 10
        }
      ]
    },
    {
      "cell_type": "markdown",
      "metadata": {
        "id": "cpsA8MzOdEQu",
        "colab_type": "text"
      },
      "source": [
        "**Listing 2.1.4 Preparing the Image Data**"
      ]
    },
    {
      "cell_type": "code",
      "metadata": {
        "id": "WaR3dpVpdFI9",
        "colab_type": "code",
        "colab": {}
      },
      "source": [
        "train_images = train_images.reshape((60000,28*28))\n",
        "train_images = train_images.astype('float32') / 255 # Normalization\n",
        "\n",
        "test_images = test_images.reshape((10000,28*28))\n",
        "test_images = test_images.astype('float32') / 255 # Normalization"
      ],
      "execution_count": 11,
      "outputs": []
    },
    {
      "cell_type": "markdown",
      "metadata": {
        "id": "NdXipAg0dnrP",
        "colab_type": "text"
      },
      "source": [
        "**Listing 2.1.5 Preparing the Labels**"
      ]
    },
    {
      "cell_type": "code",
      "metadata": {
        "id": "9Ox23JxcxcQU",
        "colab_type": "code",
        "colab": {
          "base_uri": "https://localhost:8080/",
          "height": 34
        },
        "outputId": "81ff4026-1e2a-4bfb-dd3e-0fab865123b8"
      },
      "source": [
        "# Training Labels before One-Hot-Encoding\n",
        "train_labels[0]"
      ],
      "execution_count": 12,
      "outputs": [
        {
          "output_type": "execute_result",
          "data": {
            "text/plain": [
              "5"
            ]
          },
          "metadata": {
            "tags": []
          },
          "execution_count": 12
        }
      ]
    },
    {
      "cell_type": "code",
      "metadata": {
        "id": "lYvsGIaWdoJV",
        "colab_type": "code",
        "colab": {}
      },
      "source": [
        "from keras.utils import to_categorical\n",
        "\n",
        "# One-Hot-Encoding\n",
        "train_labels = to_categorical(train_labels)\n",
        "test_labels = to_categorical(test_labels)"
      ],
      "execution_count": 13,
      "outputs": []
    },
    {
      "cell_type": "code",
      "metadata": {
        "id": "YJmc-hBMxsm9",
        "colab_type": "code",
        "colab": {
          "base_uri": "https://localhost:8080/",
          "height": 34
        },
        "outputId": "d12caf60-3173-4370-878f-67f45587909b"
      },
      "source": [
        "# Training Labels After One-Hot-Encoding\n",
        "train_labels[0]"
      ],
      "execution_count": 14,
      "outputs": [
        {
          "output_type": "execute_result",
          "data": {
            "text/plain": [
              "array([0., 0., 0., 0., 0., 1., 0., 0., 0., 0.], dtype=float32)"
            ]
          },
          "metadata": {
            "tags": []
          },
          "execution_count": 14
        }
      ]
    },
    {
      "cell_type": "markdown",
      "metadata": {
        "id": "vwvDXCIwfU_i",
        "colab_type": "text"
      },
      "source": [
        "**Now Test on Unseen Data**"
      ]
    },
    {
      "cell_type": "code",
      "metadata": {
        "id": "a99iuMf-fAcv",
        "colab_type": "code",
        "colab": {
          "base_uri": "https://localhost:8080/",
          "height": 204
        },
        "outputId": "207e3e37-3be9-45d2-d5eb-893884c7a4e0"
      },
      "source": [
        "network.fit(train_images, train_labels, epochs=5, batch_size=128)"
      ],
      "execution_count": 15,
      "outputs": [
        {
          "output_type": "stream",
          "text": [
            "Epoch 1/5\n",
            "60000/60000 [==============================] - 5s 77us/step - loss: 0.2562 - accuracy: 0.9257\n",
            "Epoch 2/5\n",
            "60000/60000 [==============================] - 5s 76us/step - loss: 0.1041 - accuracy: 0.9690\n",
            "Epoch 3/5\n",
            "60000/60000 [==============================] - 5s 78us/step - loss: 0.0687 - accuracy: 0.9795\n",
            "Epoch 4/5\n",
            "60000/60000 [==============================] - 5s 77us/step - loss: 0.0501 - accuracy: 0.9850\n",
            "Epoch 5/5\n",
            "60000/60000 [==============================] - 5s 77us/step - loss: 0.0375 - accuracy: 0.9886\n"
          ],
          "name": "stdout"
        },
        {
          "output_type": "execute_result",
          "data": {
            "text/plain": [
              "<keras.callbacks.callbacks.History at 0x7f6fc3bd4438>"
            ]
          },
          "metadata": {
            "tags": []
          },
          "execution_count": 15
        }
      ]
    },
    {
      "cell_type": "code",
      "metadata": {
        "id": "tnIB0r7HfbHh",
        "colab_type": "code",
        "colab": {
          "base_uri": "https://localhost:8080/",
          "height": 51
        },
        "outputId": "65a9b4e8-94a8-40b7-8d4c-c3b3a64db8ac"
      },
      "source": [
        "test_loss, test_acc = network.evaluate(test_images,test_labels)\n",
        "print('Test_acc:', test_acc)"
      ],
      "execution_count": 16,
      "outputs": [
        {
          "output_type": "stream",
          "text": [
            "10000/10000 [==============================] - 1s 52us/step\n",
            "Test_acc: 0.9789000153541565\n"
          ],
          "name": "stdout"
        }
      ]
    },
    {
      "cell_type": "markdown",
      "metadata": {
        "id": "G88C8KeuyZiA",
        "colab_type": "text"
      },
      "source": [
        "**--- Loading Mnist-Fashion Dataset in keras ---**"
      ]
    },
    {
      "cell_type": "code",
      "metadata": {
        "id": "weivQ9C2zDAo",
        "colab_type": "code",
        "colab": {}
      },
      "source": [
        "from tensorflow.keras.datasets import fashion_mnist\n",
        "\n",
        "(train_images, train_labels), (test_images, test_labels) = fashion_mnist.load_data()"
      ],
      "execution_count": 17,
      "outputs": []
    },
    {
      "cell_type": "code",
      "metadata": {
        "id": "X3qGKPg5zOdz",
        "colab_type": "code",
        "colab": {
          "base_uri": "https://localhost:8080/",
          "height": 85
        },
        "outputId": "8a7c2dae-3c24-4987-bcaf-6f1dec4e4158"
      },
      "source": [
        "print('Shape of train Images',train_images.shape)\n",
        "print('Lent of train Images',len(train_images))\n",
        "\n",
        "print('Train labels',train_labels)\n",
        "print('Lenth of train lable',len(train_labels))"
      ],
      "execution_count": 18,
      "outputs": [
        {
          "output_type": "stream",
          "text": [
            "Shape of train Images (60000, 28, 28)\n",
            "Lent of train Images 60000\n",
            "Train labels [9 0 0 ... 3 0 5]\n",
            "Lenth of train lable 60000\n"
          ],
          "name": "stdout"
        }
      ]
    },
    {
      "cell_type": "code",
      "metadata": {
        "id": "cH-_l1t4zO_b",
        "colab_type": "code",
        "colab": {
          "base_uri": "https://localhost:8080/",
          "height": 85
        },
        "outputId": "91066037-e217-4503-8641-271ed7ad89d8"
      },
      "source": [
        "print('Shape of Test Images',test_images.shape)\n",
        "print('Lenth of Test Images', len(test_images))\n",
        "\n",
        "print('Test labels',test_labels)\n",
        "print('Lenth of Test lable',len(test_labels))"
      ],
      "execution_count": 19,
      "outputs": [
        {
          "output_type": "stream",
          "text": [
            "Shape of Test Images (10000, 28, 28)\n",
            "Lenth of Test Images 10000\n",
            "Test labels [9 2 1 ... 8 1 5]\n",
            "Lenth of Test lable 10000\n"
          ],
          "name": "stdout"
        }
      ]
    },
    {
      "cell_type": "code",
      "metadata": {
        "id": "ymHQGg3rzPiw",
        "colab_type": "code",
        "colab": {
          "base_uri": "https://localhost:8080/",
          "height": 282
        },
        "outputId": "bde72cea-1cc8-4778-b31e-23b3a7178572"
      },
      "source": [
        "i = 3\n",
        "digit = train_images[i]\n",
        "print('Class lable:',train_labels[i])\n",
        "\n",
        "#Digit.Shape\n",
        "plt.imshow(digit, cmap=plt.cm.binary)\n",
        "plt.show()"
      ],
      "execution_count": 20,
      "outputs": [
        {
          "output_type": "stream",
          "text": [
            "Class lable: 3\n"
          ],
          "name": "stdout"
        },
        {
          "output_type": "display_data",
          "data": {
            "image/png": "[encoded data removed]",
            "text/plain": [
              "<Figure size 432x288 with 1 Axes>"
            ]
          },
          "metadata": {
            "tags": [],
            "needs_background": "light"
          }
        }
      ]
    },
    {
      "cell_type": "code",
      "metadata": {
        "id": "HzIsCG5_zQGT",
        "colab_type": "code",
        "colab": {
          "base_uri": "https://localhost:8080/",
          "height": 282
        },
        "outputId": "55f3d15b-f083-4708-8e4c-9c10c42a469f"
      },
      "source": [
        "i=0\n",
        "digit = test_images[i]\n",
        "print(\"Class Label:\",test_labels[i])\n",
        "\n",
        "#Digit.shape\n",
        "plt.imshow(digit, cmap=plt.cm.binary)\n",
        "plt.show()"
      ],
      "execution_count": 21,
      "outputs": [
        {
          "output_type": "stream",
          "text": [
            "Class Label: 9\n"
          ],
          "name": "stdout"
        },
        {
          "output_type": "display_data",
          "data": {
            "image/png": "[encoded data removed]",
            "text/plain": [
              "<Figure size 432x288 with 1 Axes>"
            ]
          },
          "metadata": {
            "tags": [],
            "needs_background": "light"
          }
        }
      ]
    },
    {
      "cell_type": "code",
      "metadata": {
        "id": "tPumHAFozt62",
        "colab_type": "code",
        "colab": {
          "base_uri": "https://localhost:8080/",
          "height": 51
        },
        "outputId": "13751917-8645-4711-a317-67727ed44963"
      },
      "source": [
        "import numpy as np\n",
        "print(train_labels)\n",
        "print(np.unique(train_labels))"
      ],
      "execution_count": 22,
      "outputs": [
        {
          "output_type": "stream",
          "text": [
            "[9 0 0 ... 3 0 5]\n",
            "[0 1 2 3 4 5 6 7 8 9]\n"
          ],
          "name": "stdout"
        }
      ]
    },
    {
      "cell_type": "code",
      "metadata": {
        "id": "uDg0uyntzuli",
        "colab_type": "code",
        "colab": {
          "base_uri": "https://localhost:8080/",
          "height": 51
        },
        "outputId": "954705e0-92bd-4217-f4b2-be350102a5ae"
      },
      "source": [
        "import numpy as np\n",
        "print(test_labels)\n",
        "print(np.unique(test_labels))"
      ],
      "execution_count": 23,
      "outputs": [
        {
          "output_type": "stream",
          "text": [
            "[9 2 1 ... 8 1 5]\n",
            "[0 1 2 3 4 5 6 7 8 9]\n"
          ],
          "name": "stdout"
        }
      ]
    },
    {
      "cell_type": "markdown",
      "metadata": {
        "colab_type": "text",
        "id": "OmJZUOmy0jMw"
      },
      "source": [
        "**Listring 2.1.2 The Network Architectures**"
      ]
    },
    {
      "cell_type": "code",
      "metadata": {
        "colab_type": "code",
        "id": "UDj1UQKP0jM3",
        "colab": {}
      },
      "source": [
        "from keras import models\n",
        "from keras import layers\n",
        "\n",
        "network = models.Sequential()\n",
        "network.add(layers.Dense(512, activation='relu', input_shape=(28*28,)))\n",
        "network.add(layers.Dense(10, activation='softmax'))"
      ],
      "execution_count": 24,
      "outputs": []
    },
    {
      "cell_type": "markdown",
      "metadata": {
        "colab_type": "text",
        "id": "A8VQpcUU0jNJ"
      },
      "source": [
        "**Listing 2.1.3 The compilation step**"
      ]
    },
    {
      "cell_type": "code",
      "metadata": {
        "colab_type": "code",
        "id": "CORYAMmm0jNL",
        "colab": {}
      },
      "source": [
        "network.compile(optimizer='rmsprop',\n",
        "                loss='categorical_crossentropy',\n",
        "                metrics=['accuracy'])"
      ],
      "execution_count": 25,
      "outputs": []
    },
    {
      "cell_type": "code",
      "metadata": {
        "colab_type": "code",
        "id": "yilCOZbJ0jNW",
        "colab": {
          "base_uri": "https://localhost:8080/",
          "height": 34
        },
        "outputId": "83255c44-b563-4cce-a0fd-3c63b98181eb"
      },
      "source": [
        "train_images.ndim # Dimentions of Train Images"
      ],
      "execution_count": 26,
      "outputs": [
        {
          "output_type": "execute_result",
          "data": {
            "text/plain": [
              "3"
            ]
          },
          "metadata": {
            "tags": []
          },
          "execution_count": 26
        }
      ]
    },
    {
      "cell_type": "markdown",
      "metadata": {
        "colab_type": "text",
        "id": "NuzWhLnO0jNh"
      },
      "source": [
        "**Listing 2.1.4 Preparing the Image Data**"
      ]
    },
    {
      "cell_type": "code",
      "metadata": {
        "colab_type": "code",
        "id": "ZdhGuu1z0jNj",
        "colab": {}
      },
      "source": [
        "train_images = train_images.reshape((60000,28*28))\n",
        "train_images = train_images.astype('float32') / 255 # Normalization\n",
        "\n",
        "test_images = test_images.reshape((10000,28*28))\n",
        "test_images = test_images.astype('float32') / 255 # Normalization"
      ],
      "execution_count": 27,
      "outputs": []
    },
    {
      "cell_type": "markdown",
      "metadata": {
        "colab_type": "text",
        "id": "aNhWIAVk0jNu"
      },
      "source": [
        "**Listing 2.1.5 Preparing the Labels**"
      ]
    },
    {
      "cell_type": "code",
      "metadata": {
        "colab_type": "code",
        "id": "IeloAvzC0jNw",
        "colab": {
          "base_uri": "https://localhost:8080/",
          "height": 34
        },
        "outputId": "5cf326be-d697-452a-a464-9ff260140853"
      },
      "source": [
        "# Training Labels before One-Hot-Encoding\n",
        "train_labels[0]"
      ],
      "execution_count": 28,
      "outputs": [
        {
          "output_type": "execute_result",
          "data": {
            "text/plain": [
              "9"
            ]
          },
          "metadata": {
            "tags": []
          },
          "execution_count": 28
        }
      ]
    },
    {
      "cell_type": "code",
      "metadata": {
        "colab_type": "code",
        "id": "IbWe5zir0jN9",
        "colab": {}
      },
      "source": [
        "from keras.utils import to_categorical\n",
        "\n",
        "# One-Hot-Encoding\n",
        "train_labels = to_categorical(train_labels)\n",
        "test_labels = to_categorical(test_labels)"
      ],
      "execution_count": 29,
      "outputs": []
    },
    {
      "cell_type": "code",
      "metadata": {
        "colab_type": "code",
        "id": "KcnslH9m0jOI",
        "colab": {
          "base_uri": "https://localhost:8080/",
          "height": 34
        },
        "outputId": "c2910863-8a99-40d3-9f8f-485fbc1a0701"
      },
      "source": [
        "# Training Labels After One-Hot-Encoding\n",
        "train_labels[0]"
      ],
      "execution_count": 30,
      "outputs": [
        {
          "output_type": "execute_result",
          "data": {
            "text/plain": [
              "array([0., 0., 0., 0., 0., 0., 0., 0., 0., 1.], dtype=float32)"
            ]
          },
          "metadata": {
            "tags": []
          },
          "execution_count": 30
        }
      ]
    },
    {
      "cell_type": "markdown",
      "metadata": {
        "colab_type": "text",
        "id": "LnMLVEZV0jOU"
      },
      "source": [
        "**Now Test on Unseen Data**"
      ]
    },
    {
      "cell_type": "code",
      "metadata": {
        "colab_type": "code",
        "id": "h8J6R-xf0jOW",
        "colab": {
          "base_uri": "https://localhost:8080/",
          "height": 204
        },
        "outputId": "ea98a462-c507-4286-c1a7-4a641817b143"
      },
      "source": [
        "network.fit(train_images, train_labels, epochs=5, batch_size=128)"
      ],
      "execution_count": 31,
      "outputs": [
        {
          "output_type": "stream",
          "text": [
            "Epoch 1/5\n",
            "60000/60000 [==============================] - 5s 79us/step - loss: 0.5538 - accuracy: 0.8044\n",
            "Epoch 2/5\n",
            "60000/60000 [==============================] - 5s 76us/step - loss: 0.3804 - accuracy: 0.8603\n",
            "Epoch 3/5\n",
            "60000/60000 [==============================] - 5s 76us/step - loss: 0.3344 - accuracy: 0.8766\n",
            "Epoch 4/5\n",
            "60000/60000 [==============================] - 5s 79us/step - loss: 0.3091 - accuracy: 0.8858\n",
            "Epoch 5/5\n",
            "60000/60000 [==============================] - 5s 77us/step - loss: 0.2916 - accuracy: 0.8920\n"
          ],
          "name": "stdout"
        },
        {
          "output_type": "execute_result",
          "data": {
            "text/plain": [
              "<keras.callbacks.callbacks.History at 0x7f6fc2d40b00>"
            ]
          },
          "metadata": {
            "tags": []
          },
          "execution_count": 31
        }
      ]
    },
    {
      "cell_type": "code",
      "metadata": {
        "colab_type": "code",
        "id": "OyZTJfuS0jOg",
        "colab": {
          "base_uri": "https://localhost:8080/",
          "height": 51
        },
        "outputId": "65ce7a19-6286-4738-f582-d15792c0791a"
      },
      "source": [
        "test_loss, test_acc = network.evaluate(test_images,test_labels)\n",
        "print('Test_acc:', test_acc)"
      ],
      "execution_count": 32,
      "outputs": [
        {
          "output_type": "stream",
          "text": [
            "10000/10000 [==============================] - 1s 52us/step\n",
            "Test_acc: 0.8694000244140625\n"
          ],
          "name": "stdout"
        }
      ]
    },
    {
      "cell_type": "markdown",
      "metadata": {
        "id": "GywH7oO7yaP-",
        "colab_type": "text"
      },
      "source": [
        "**--- End of Mnist-Fashion Dataset in keras ---**"
      ]
    },
    {
      "cell_type": "markdown",
      "metadata": {
        "id": "bmrldc94h1MA",
        "colab_type": "text"
      },
      "source": [
        "**2.2 Data Representation for Neural Networks**\n",
        "*   ndarray = Tensor\n",
        "*   count number of opening brickets [[[ == number dimension, rank, axis\n",
        "\n"
      ]
    },
    {
      "cell_type": "markdown",
      "metadata": {
        "id": "KEuCw2DLib9Q",
        "colab_type": "text"
      },
      "source": [
        "**2.2.1 Scallars (0D tensors)**"
      ]
    },
    {
      "cell_type": "code",
      "metadata": {
        "id": "Eevga04TiLEQ",
        "colab_type": "code",
        "colab": {
          "base_uri": "https://localhost:8080/",
          "height": 85
        },
        "outputId": "c048e3db-f0ed-437f-d25a-07097d3ccdb1"
      },
      "source": [
        "a = np.array(25)\n",
        "print(a)\n",
        "print(a.ndim)\n",
        "print(a.dtype)\n",
        "print(a.shape)\n",
        "# 0 Rank Tensor, 0D Tensor"
      ],
      "execution_count": 33,
      "outputs": [
        {
          "output_type": "stream",
          "text": [
            "25\n",
            "0\n",
            "int64\n",
            "()\n"
          ],
          "name": "stdout"
        }
      ]
    },
    {
      "cell_type": "markdown",
      "metadata": {
        "id": "HhihTp1oi8DY",
        "colab_type": "text"
      },
      "source": [
        "**2.2.2 Vectors (1D tensors)**"
      ]
    },
    {
      "cell_type": "code",
      "metadata": {
        "id": "v68PCm6TipJJ",
        "colab_type": "code",
        "colab": {
          "base_uri": "https://localhost:8080/",
          "height": 85
        },
        "outputId": "11825f72-2d4b-47e7-d347-8d603af5ccbb"
      },
      "source": [
        "a = np.array([12,3,6,14])\n",
        "print(a)\n",
        "print(a.ndim) #Axes, Dimension, Rank\n",
        "print(a.dtype)\n",
        "print(a.shape)# How many index in perticular axes.\n",
        "# 1 Rank Tensor, 1D Tensor, Vector, 1Axes Tensor"
      ],
      "execution_count": 34,
      "outputs": [
        {
          "output_type": "stream",
          "text": [
            "[12  3  6 14]\n",
            "1\n",
            "int64\n",
            "(4,)\n"
          ],
          "name": "stdout"
        }
      ]
    },
    {
      "cell_type": "code",
      "metadata": {
        "id": "oq6trYUfkdSq",
        "colab_type": "code",
        "colab": {
          "base_uri": "https://localhost:8080/",
          "height": 85
        },
        "outputId": "c562f023-b76c-412c-d6be-e9f3c514f2b9"
      },
      "source": [
        "a = np.array([[[[[6]]]]])\n",
        "print(a)\n",
        "print(a.ndim) #Axes, Dimension, Rank\n",
        "print(a.dtype)\n",
        "print(a.shape)# How many index in perticular axes.\n",
        "# 1 Rank Tensor, 1D Tensor, Vector, 1Axes Tensor"
      ],
      "execution_count": 35,
      "outputs": [
        {
          "output_type": "stream",
          "text": [
            "[[[[[6]]]]]\n",
            "5\n",
            "int64\n",
            "(1, 1, 1, 1, 1)\n"
          ],
          "name": "stdout"
        }
      ]
    },
    {
      "cell_type": "markdown",
      "metadata": {
        "id": "Qmfw5UTbj54m",
        "colab_type": "text"
      },
      "source": [
        "**2.2.3 Matrices (2D tensors)**"
      ]
    },
    {
      "cell_type": "code",
      "metadata": {
        "id": "LQOFBHBPjXjY",
        "colab_type": "code",
        "colab": {
          "base_uri": "https://localhost:8080/",
          "height": 119
        },
        "outputId": "078038c8-e255-470b-ca56-fc85fb0badf4"
      },
      "source": [
        "a = np.array([[5, 78, 2, 34, 0],\n",
        "              [6, 79, 3, 35, 1],\n",
        "              [7, 80, 4, 36, 2]])\n",
        "print(a)\n",
        "print('Dimention:',a.ndim) #Axes, Dimension, Rank\n",
        "print('Data Type:',a.dtype)\n",
        "print('Shape:',a.shape)# How many index in perticular axes."
      ],
      "execution_count": 36,
      "outputs": [
        {
          "output_type": "stream",
          "text": [
            "[[ 5 78  2 34  0]\n",
            " [ 6 79  3 35  1]\n",
            " [ 7 80  4 36  2]]\n",
            "Dimention: 2\n",
            "Data Type: int64\n",
            "Shape: (3, 5)\n"
          ],
          "name": "stdout"
        }
      ]
    },
    {
      "cell_type": "markdown",
      "metadata": {
        "id": "WGv5e000l0tH",
        "colab_type": "text"
      },
      "source": [
        "**2.2.4 3D Tensors and Higher-Dimentional Tensors**"
      ]
    },
    {
      "cell_type": "code",
      "metadata": {
        "id": "Zp0VfZNslxoF",
        "colab_type": "code",
        "colab": {
          "base_uri": "https://localhost:8080/",
          "height": 255
        },
        "outputId": "45e07dd1-29e8-4757-858b-d162632b2e4e"
      },
      "source": [
        "a = np.arange(1,46).reshape((3,3,5))\n",
        "\n",
        "print(a)\n",
        "print('Dimention:',a.ndim) #Axes, Dimension, Rank\n",
        "print('Data Type:',a.dtype)\n",
        "print('Shape:',a.shape)# How many index in perticular axes."
      ],
      "execution_count": 37,
      "outputs": [
        {
          "output_type": "stream",
          "text": [
            "[[[ 1  2  3  4  5]\n",
            "  [ 6  7  8  9 10]\n",
            "  [11 12 13 14 15]]\n",
            "\n",
            " [[16 17 18 19 20]\n",
            "  [21 22 23 24 25]\n",
            "  [26 27 28 29 30]]\n",
            "\n",
            " [[31 32 33 34 35]\n",
            "  [36 37 38 39 40]\n",
            "  [41 42 43 44 45]]]\n",
            "Dimention: 3\n",
            "Data Type: int64\n",
            "Shape: (3, 3, 5)\n"
          ],
          "name": "stdout"
        }
      ]
    }
  ]
}